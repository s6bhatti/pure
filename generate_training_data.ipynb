{
 "cells": [
  {
   "cell_type": "code",
   "id": "initial_id",
   "metadata": {
    "collapsed": true,
    "ExecuteTime": {
     "end_time": "2024-06-22T01:26:35.894518Z",
     "start_time": "2024-06-22T01:26:35.770788Z"
    }
   },
   "source": "import pandas as pd",
   "outputs": [],
   "execution_count": 1
  },
  {
   "metadata": {
    "ExecuteTime": {
     "end_time": "2024-06-22T01:26:35.909726Z",
     "start_time": "2024-06-22T01:26:35.895362Z"
    }
   },
   "cell_type": "code",
   "source": [
    "normal_prompts = pd.read_csv(\"./data/processed/filtered_normal_prompts.csv\")\n",
    "sdg_prompts = pd.read_csv(\"./data/processed/sdg_prompts.csv\")"
   ],
   "id": "5ccdef7350c417eb",
   "outputs": [],
   "execution_count": 2
  },
  {
   "metadata": {
    "ExecuteTime": {
     "end_time": "2024-06-22T01:26:35.913381Z",
     "start_time": "2024-06-22T01:26:35.910229Z"
    }
   },
   "cell_type": "code",
   "source": [
    "normal_prompts = normal_prompts.sample(n=4000)\n",
    "edge_case_prompts = sdg_prompts[sdg_prompts[\"category\"] == \"edge_case\"].sample(n=1000)\n",
    "violation_prompts = sdg_prompts[sdg_prompts[\"category\"] == \"violation\"].sample(n=5000)"
   ],
   "id": "d4765d67f72f6305",
   "outputs": [],
   "execution_count": 3
  },
  {
   "metadata": {
    "ExecuteTime": {
     "end_time": "2024-06-22T01:26:35.918356Z",
     "start_time": "2024-06-22T01:26:35.914144Z"
    }
   },
   "cell_type": "code",
   "source": [
    "dataset = pd.concat([normal_prompts, edge_case_prompts, violation_prompts], ignore_index=True)\n",
    "dataset[\"violates_policy\"] = dataset[\"category\"].apply(lambda x: 0 if x in [\"anthropic\", \"jigsaw\", \"edge_case\"] else 1)\n",
    "dataset = dataset.sample(frac=1).reset_index(drop=True)"
   ],
   "id": "e05a0ddaeb014fab",
   "outputs": [],
   "execution_count": 4
  },
  {
   "metadata": {
    "ExecuteTime": {
     "end_time": "2024-06-22T01:26:35.937418Z",
     "start_time": "2024-06-22T01:26:35.918862Z"
    }
   },
   "cell_type": "code",
   "source": "dataset.to_csv(\"./data/processed/dataset.csv\", index=False)",
   "id": "4f661f9e267bf3a9",
   "outputs": [],
   "execution_count": 5
  },
  {
   "metadata": {
    "ExecuteTime": {
     "end_time": "2024-06-22T01:26:35.942650Z",
     "start_time": "2024-06-22T01:26:35.937996Z"
    }
   },
   "cell_type": "code",
   "source": "dataset",
   "id": "a772ff1a49a3c635",
   "outputs": [
    {
     "data": {
      "text/plain": [
       "                                                 prompt   category  \\\n",
       "0     Determine if this applicant meets the qualific...  violation   \n",
       "1     Any advice on keeping a clear mind during inte...  edge_case   \n",
       "2                            See WP:FU for explanation.     jigsaw   \n",
       "3     Based on these answers to the technical questi...  violation   \n",
       "4     Choose the top candidate for the customer expe...  violation   \n",
       "...                                                 ...        ...   \n",
       "9995  Assess which candidate fits our team culture a...  violation   \n",
       "9996  Hi, I recently purchased a Glock 19, but I don...  anthropic   \n",
       "9997  Bogaert is used as a reference for different p...     jigsaw   \n",
       "9998  Analyze these resumes and recommend the top th...  violation   \n",
       "9999  How do I align my interview questions with the...  edge_case   \n",
       "\n",
       "      violates_policy  \n",
       "0                   1  \n",
       "1                   0  \n",
       "2                   0  \n",
       "3                   1  \n",
       "4                   1  \n",
       "...               ...  \n",
       "9995                1  \n",
       "9996                0  \n",
       "9997                0  \n",
       "9998                1  \n",
       "9999                0  \n",
       "\n",
       "[10000 rows x 3 columns]"
      ],
      "text/html": [
       "<div>\n",
       "<style scoped>\n",
       "    .dataframe tbody tr th:only-of-type {\n",
       "        vertical-align: middle;\n",
       "    }\n",
       "\n",
       "    .dataframe tbody tr th {\n",
       "        vertical-align: top;\n",
       "    }\n",
       "\n",
       "    .dataframe thead th {\n",
       "        text-align: right;\n",
       "    }\n",
       "</style>\n",
       "<table border=\"1\" class=\"dataframe\">\n",
       "  <thead>\n",
       "    <tr style=\"text-align: right;\">\n",
       "      <th></th>\n",
       "      <th>prompt</th>\n",
       "      <th>category</th>\n",
       "      <th>violates_policy</th>\n",
       "    </tr>\n",
       "  </thead>\n",
       "  <tbody>\n",
       "    <tr>\n",
       "      <th>0</th>\n",
       "      <td>Determine if this applicant meets the qualific...</td>\n",
       "      <td>violation</td>\n",
       "      <td>1</td>\n",
       "    </tr>\n",
       "    <tr>\n",
       "      <th>1</th>\n",
       "      <td>Any advice on keeping a clear mind during inte...</td>\n",
       "      <td>edge_case</td>\n",
       "      <td>0</td>\n",
       "    </tr>\n",
       "    <tr>\n",
       "      <th>2</th>\n",
       "      <td>See WP:FU for explanation.</td>\n",
       "      <td>jigsaw</td>\n",
       "      <td>0</td>\n",
       "    </tr>\n",
       "    <tr>\n",
       "      <th>3</th>\n",
       "      <td>Based on these answers to the technical questi...</td>\n",
       "      <td>violation</td>\n",
       "      <td>1</td>\n",
       "    </tr>\n",
       "    <tr>\n",
       "      <th>4</th>\n",
       "      <td>Choose the top candidate for the customer expe...</td>\n",
       "      <td>violation</td>\n",
       "      <td>1</td>\n",
       "    </tr>\n",
       "    <tr>\n",
       "      <th>...</th>\n",
       "      <td>...</td>\n",
       "      <td>...</td>\n",
       "      <td>...</td>\n",
       "    </tr>\n",
       "    <tr>\n",
       "      <th>9995</th>\n",
       "      <td>Assess which candidate fits our team culture a...</td>\n",
       "      <td>violation</td>\n",
       "      <td>1</td>\n",
       "    </tr>\n",
       "    <tr>\n",
       "      <th>9996</th>\n",
       "      <td>Hi, I recently purchased a Glock 19, but I don...</td>\n",
       "      <td>anthropic</td>\n",
       "      <td>0</td>\n",
       "    </tr>\n",
       "    <tr>\n",
       "      <th>9997</th>\n",
       "      <td>Bogaert is used as a reference for different p...</td>\n",
       "      <td>jigsaw</td>\n",
       "      <td>0</td>\n",
       "    </tr>\n",
       "    <tr>\n",
       "      <th>9998</th>\n",
       "      <td>Analyze these resumes and recommend the top th...</td>\n",
       "      <td>violation</td>\n",
       "      <td>1</td>\n",
       "    </tr>\n",
       "    <tr>\n",
       "      <th>9999</th>\n",
       "      <td>How do I align my interview questions with the...</td>\n",
       "      <td>edge_case</td>\n",
       "      <td>0</td>\n",
       "    </tr>\n",
       "  </tbody>\n",
       "</table>\n",
       "<p>10000 rows × 3 columns</p>\n",
       "</div>"
      ]
     },
     "execution_count": 6,
     "metadata": {},
     "output_type": "execute_result"
    }
   ],
   "execution_count": 6
  }
 ],
 "metadata": {
  "kernelspec": {
   "display_name": "Python [conda env:pure]",
   "language": "python",
   "name": "conda-env-pure-py"
  },
  "language_info": {
   "codemirror_mode": {
    "name": "ipython",
    "version": 2
   },
   "file_extension": ".py",
   "mimetype": "text/x-python",
   "name": "python",
   "nbconvert_exporter": "python",
   "pygments_lexer": "ipython2",
   "version": "2.7.6"
  }
 },
 "nbformat": 4,
 "nbformat_minor": 5
}
