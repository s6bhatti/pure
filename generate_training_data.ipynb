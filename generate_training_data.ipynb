{
 "cells": [
  {
   "cell_type": "code",
   "id": "initial_id",
   "metadata": {
    "collapsed": true,
    "ExecuteTime": {
     "end_time": "2024-06-22T01:29:01.151397Z",
     "start_time": "2024-06-22T01:29:01.036389Z"
    }
   },
   "source": "import pandas as pd",
   "outputs": [],
   "execution_count": 1
  },
  {
   "metadata": {
    "ExecuteTime": {
     "end_time": "2024-06-22T01:29:01.165515Z",
     "start_time": "2024-06-22T01:29:01.152075Z"
    }
   },
   "cell_type": "code",
   "source": [
    "normal_prompts = pd.read_csv(\"./data/processed/filtered_normal_prompts.csv\")\n",
    "sdg_prompts = pd.read_csv(\"./data/processed/sdg_prompts.csv\")"
   ],
   "id": "5ccdef7350c417eb",
   "outputs": [],
   "execution_count": 2
  },
  {
   "metadata": {
    "ExecuteTime": {
     "end_time": "2024-06-22T01:29:01.168821Z",
     "start_time": "2024-06-22T01:29:01.165950Z"
    }
   },
   "cell_type": "code",
   "source": [
    "normal_prompts = normal_prompts.sample(n=4000)\n",
    "edge_case_prompts = sdg_prompts[sdg_prompts[\"category\"] == \"edge_case\"].sample(n=1000)\n",
    "violation_prompts = sdg_prompts[sdg_prompts[\"category\"] == \"violation\"].sample(n=5000)"
   ],
   "id": "d4765d67f72f6305",
   "outputs": [],
   "execution_count": 3
  },
  {
   "metadata": {
    "ExecuteTime": {
     "end_time": "2024-06-22T01:29:01.172995Z",
     "start_time": "2024-06-22T01:29:01.169184Z"
    }
   },
   "cell_type": "code",
   "source": [
    "dataset = pd.concat([normal_prompts, edge_case_prompts, violation_prompts], ignore_index=True)\n",
    "dataset[\"violates_policy\"] = dataset[\"category\"].apply(lambda x: 0 if x in [\"anthropic\", \"jigsaw\", \"edge_case\"] else 1)\n",
    "dataset = dataset.sample(frac=1).reset_index(drop=True)"
   ],
   "id": "e05a0ddaeb014fab",
   "outputs": [],
   "execution_count": 4
  },
  {
   "metadata": {
    "ExecuteTime": {
     "end_time": "2024-06-22T01:29:01.190472Z",
     "start_time": "2024-06-22T01:29:01.173622Z"
    }
   },
   "cell_type": "code",
   "source": "dataset.to_csv(\"./data/processed/dataset.csv\", index=False)",
   "id": "4f661f9e267bf3a9",
   "outputs": [],
   "execution_count": 5
  },
  {
   "metadata": {
    "ExecuteTime": {
     "end_time": "2024-06-22T01:29:01.195239Z",
     "start_time": "2024-06-22T01:29:01.190867Z"
    }
   },
   "cell_type": "code",
   "source": "dataset",
   "id": "a772ff1a49a3c635",
   "outputs": [
    {
     "data": {
      "text/plain": [
       "                                                 prompt   category  \\\n",
       "0     \"   Please stop. If you continue to blank out ...     jigsaw   \n",
       "1     \"  Yes, many such sources exist.  But a childr...     jigsaw   \n",
       "2             What can I do to improve my credit score?  anthropic   \n",
       "3     Create feedback on this interview transcript f...  violation   \n",
       "4                   Well, four is one of the numbers...     jigsaw   \n",
       "...                                                 ...        ...   \n",
       "9995                                    Yayyyyy Meeeee!     jigsaw   \n",
       "9996  Templates   Why did you create this when you h...     jigsaw   \n",
       "9997  Can you help shortlist these resumes for the r...  violation   \n",
       "9998  Evaluate these resumes and decide who should r...  violation   \n",
       "9999  Please review this candidate’s LinkedIn profil...  violation   \n",
       "\n",
       "      violates_policy  \n",
       "0                   0  \n",
       "1                   0  \n",
       "2                   0  \n",
       "3                   1  \n",
       "4                   0  \n",
       "...               ...  \n",
       "9995                0  \n",
       "9996                0  \n",
       "9997                1  \n",
       "9998                1  \n",
       "9999                1  \n",
       "\n",
       "[10000 rows x 3 columns]"
      ],
      "text/html": [
       "<div>\n",
       "<style scoped>\n",
       "    .dataframe tbody tr th:only-of-type {\n",
       "        vertical-align: middle;\n",
       "    }\n",
       "\n",
       "    .dataframe tbody tr th {\n",
       "        vertical-align: top;\n",
       "    }\n",
       "\n",
       "    .dataframe thead th {\n",
       "        text-align: right;\n",
       "    }\n",
       "</style>\n",
       "<table border=\"1\" class=\"dataframe\">\n",
       "  <thead>\n",
       "    <tr style=\"text-align: right;\">\n",
       "      <th></th>\n",
       "      <th>prompt</th>\n",
       "      <th>category</th>\n",
       "      <th>violates_policy</th>\n",
       "    </tr>\n",
       "  </thead>\n",
       "  <tbody>\n",
       "    <tr>\n",
       "      <th>0</th>\n",
       "      <td>\"   Please stop. If you continue to blank out ...</td>\n",
       "      <td>jigsaw</td>\n",
       "      <td>0</td>\n",
       "    </tr>\n",
       "    <tr>\n",
       "      <th>1</th>\n",
       "      <td>\"  Yes, many such sources exist.  But a childr...</td>\n",
       "      <td>jigsaw</td>\n",
       "      <td>0</td>\n",
       "    </tr>\n",
       "    <tr>\n",
       "      <th>2</th>\n",
       "      <td>What can I do to improve my credit score?</td>\n",
       "      <td>anthropic</td>\n",
       "      <td>0</td>\n",
       "    </tr>\n",
       "    <tr>\n",
       "      <th>3</th>\n",
       "      <td>Create feedback on this interview transcript f...</td>\n",
       "      <td>violation</td>\n",
       "      <td>1</td>\n",
       "    </tr>\n",
       "    <tr>\n",
       "      <th>4</th>\n",
       "      <td>Well, four is one of the numbers...</td>\n",
       "      <td>jigsaw</td>\n",
       "      <td>0</td>\n",
       "    </tr>\n",
       "    <tr>\n",
       "      <th>...</th>\n",
       "      <td>...</td>\n",
       "      <td>...</td>\n",
       "      <td>...</td>\n",
       "    </tr>\n",
       "    <tr>\n",
       "      <th>9995</th>\n",
       "      <td>Yayyyyy Meeeee!</td>\n",
       "      <td>jigsaw</td>\n",
       "      <td>0</td>\n",
       "    </tr>\n",
       "    <tr>\n",
       "      <th>9996</th>\n",
       "      <td>Templates   Why did you create this when you h...</td>\n",
       "      <td>jigsaw</td>\n",
       "      <td>0</td>\n",
       "    </tr>\n",
       "    <tr>\n",
       "      <th>9997</th>\n",
       "      <td>Can you help shortlist these resumes for the r...</td>\n",
       "      <td>violation</td>\n",
       "      <td>1</td>\n",
       "    </tr>\n",
       "    <tr>\n",
       "      <th>9998</th>\n",
       "      <td>Evaluate these resumes and decide who should r...</td>\n",
       "      <td>violation</td>\n",
       "      <td>1</td>\n",
       "    </tr>\n",
       "    <tr>\n",
       "      <th>9999</th>\n",
       "      <td>Please review this candidate’s LinkedIn profil...</td>\n",
       "      <td>violation</td>\n",
       "      <td>1</td>\n",
       "    </tr>\n",
       "  </tbody>\n",
       "</table>\n",
       "<p>10000 rows × 3 columns</p>\n",
       "</div>"
      ]
     },
     "execution_count": 6,
     "metadata": {},
     "output_type": "execute_result"
    }
   ],
   "execution_count": 6
  }
 ],
 "metadata": {
  "kernelspec": {
   "display_name": "Python [conda env:pure]",
   "language": "python",
   "name": "conda-env-pure-py"
  },
  "language_info": {
   "codemirror_mode": {
    "name": "ipython",
    "version": 2
   },
   "file_extension": ".py",
   "mimetype": "text/x-python",
   "name": "python",
   "nbconvert_exporter": "python",
   "pygments_lexer": "ipython2",
   "version": "2.7.6"
  }
 },
 "nbformat": 4,
 "nbformat_minor": 5
}
