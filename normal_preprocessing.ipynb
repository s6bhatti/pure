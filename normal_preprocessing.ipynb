{
 "cells": [
  {
   "cell_type": "code",
   "id": "1c1f7bd4-de55-4b28-abb5-ca3ad1968f4d",
   "metadata": {
    "ExecuteTime": {
     "end_time": "2024-06-22T01:23:43.899872Z",
     "start_time": "2024-06-22T01:23:43.774824Z"
    }
   },
   "source": [
    "import re\n",
    "\n",
    "import pandas as pd"
   ],
   "outputs": [],
   "execution_count": 1
  },
  {
   "cell_type": "markdown",
   "id": "08f976bb-518a-49f3-a869-997e2dd2df44",
   "metadata": {},
   "source": [
    "## Jigsaw Toxic Comments"
   ]
  },
  {
   "cell_type": "code",
   "id": "fbe1a257-ed6b-466d-9a1b-bdc626b6e16b",
   "metadata": {
    "ExecuteTime": {
     "end_time": "2024-06-22T01:23:44.718074Z",
     "start_time": "2024-06-22T01:23:43.900688Z"
    }
   },
   "source": [
    "jigsaw_train = pd.read_csv(\"./data/raw/jigsaw/train.csv\")\n",
    "jigsaw_test = pd.read_csv(\"./data/raw/jigsaw/test.csv\")\n",
    "jigsaw_test_labels = pd.read_csv(\"./data/raw/jigsaw/test_labels.csv\")"
   ],
   "outputs": [],
   "execution_count": 2
  },
  {
   "cell_type": "code",
   "id": "1e461a72-4d69-4ee3-acc8-3ec635fbf889",
   "metadata": {
    "ExecuteTime": {
     "end_time": "2024-06-22T01:23:44.835618Z",
     "start_time": "2024-06-22T01:23:44.718769Z"
    }
   },
   "source": [
    "jigsaw_test = pd.merge(jigsaw_test, jigsaw_test_labels, on=\"id\", how=\"inner\", validate=\"1:1\")"
   ],
   "outputs": [],
   "execution_count": 3
  },
  {
   "metadata": {
    "ExecuteTime": {
     "end_time": "2024-06-22T01:23:44.838371Z",
     "start_time": "2024-06-22T01:23:44.836583Z"
    }
   },
   "cell_type": "code",
   "source": [
    "def clean_prompt(prompt):\n",
    "    prompt = re.sub(\"\\\\n\", \" \", prompt)\n",
    "    prompt = re.sub(\"\\d{1,3}\\.\\d{1,3}\\.\\d{1,3}\\.\\d{1,3}\", \"\", prompt)\n",
    "    prompt = re.sub(\"\\[\\[.*\\]\", \"\", prompt)\n",
    "    return prompt"
   ],
   "id": "535d2f1661ce5bc",
   "outputs": [],
   "execution_count": 4
  },
  {
   "metadata": {
    "ExecuteTime": {
     "end_time": "2024-06-22T01:23:45.634759Z",
     "start_time": "2024-06-22T01:23:44.838898Z"
    }
   },
   "cell_type": "code",
   "source": [
    "jigsaw_df = pd.concat([jigsaw_train, jigsaw_test]).reset_index(drop=True)\n",
    "jigsaw_normal = jigsaw_df.loc[(jigsaw_df.iloc[:, -6:] == 0).all(axis=1)]\n",
    "jigsaw_normal.loc[:, \"comment_text\"] = jigsaw_normal.loc[:, \"comment_text\"].apply(clean_prompt)\n",
    "jigsaw_normal_prompts = jigsaw_normal[\"comment_text\"].tolist()"
   ],
   "id": "96e0a038e1f51529",
   "outputs": [],
   "execution_count": 5
  },
  {
   "cell_type": "markdown",
   "id": "7569f697-4c07-4eab-a85b-fb9fc4ba48f2",
   "metadata": {},
   "source": [
    "## Anthropic HH-RLHF"
   ]
  },
  {
   "cell_type": "code",
   "id": "7f2159e8-023d-4b82-b621-af5cc917d1e4",
   "metadata": {
    "ExecuteTime": {
     "end_time": "2024-06-22T01:23:47.139829Z",
     "start_time": "2024-06-22T01:23:45.635459Z"
    }
   },
   "source": [
    "anthropic_train_helpful = pd.read_json(\"./data/raw/anthropic/helpful_base/train.jsonl\", lines=True)\n",
    "anthropic_test_helpful = pd.read_json(\"./data/raw/anthropic/helpful_base/test.jsonl\", lines=True)\n",
    "\n",
    "anthropic_train_helpful_online = pd.read_json(\"./data/raw/anthropic/helpful_online/train.jsonl\", lines=True)\n",
    "anthropic_test_helpful_online = pd.read_json(\"./data/raw/anthropic/helpful_online/test.jsonl\", lines=True)"
   ],
   "outputs": [],
   "execution_count": 6
  },
  {
   "metadata": {
    "ExecuteTime": {
     "end_time": "2024-06-22T01:23:47.229602Z",
     "start_time": "2024-06-22T01:23:47.140432Z"
    }
   },
   "cell_type": "code",
   "source": [
    "anthropic_df = pd.concat([anthropic_train_helpful, anthropic_test_helpful, anthropic_train_helpful_online, anthropic_test_helpful_online]).reset_index(drop=True)\n",
    "anthropic_df[\"chosen\"] = anthropic_df[\"chosen\"].apply(lambda x: \" \".join(x.split(\"\\n\\n\")[1].split()[1:]))\n",
    "anthropic_df = anthropic_df.drop_duplicates(subset=[\"chosen\"]).reset_index(drop=True)"
   ],
   "id": "cbd354113297169d",
   "outputs": [],
   "execution_count": 7
  },
  {
   "metadata": {
    "ExecuteTime": {
     "end_time": "2024-06-22T01:23:47.231935Z",
     "start_time": "2024-06-22T01:23:47.230266Z"
    }
   },
   "cell_type": "code",
   "source": "anthropic_normal_prompts = anthropic_df[\"chosen\"].tolist()",
   "id": "8cc7ee2afd2921c3",
   "outputs": [],
   "execution_count": 8
  },
  {
   "metadata": {
    "ExecuteTime": {
     "end_time": "2024-06-22T01:23:48.019969Z",
     "start_time": "2024-06-22T01:23:47.232456Z"
    }
   },
   "cell_type": "code",
   "source": [
    "normal_prompts = pd.DataFrame({\"prompt\": jigsaw_normal_prompts + anthropic_normal_prompts, \"category\": [\"jigsaw\"] * len(jigsaw_normal_prompts) + [\"anthropic\"] * len(anthropic_normal_prompts)})\n",
    "normal_prompts = normal_prompts.sample(frac=1).reset_index(drop=True)\n",
    "normal_prompts.to_csv(\"./data/processed/normal_prompts.csv\", index=False)"
   ],
   "id": "61a46a1ca5afe3a9",
   "outputs": [],
   "execution_count": 9
  },
  {
   "metadata": {
    "ExecuteTime": {
     "end_time": "2024-06-22T01:23:48.026094Z",
     "start_time": "2024-06-22T01:23:48.020980Z"
    }
   },
   "cell_type": "code",
   "source": "normal_prompts",
   "id": "bf4419ee70cf9246",
   "outputs": [
    {
     "data": {
      "text/plain": [
       "                                                   prompt   category\n",
       "0           Indeed, I noticed the hand trembling as well.     jigsaw\n",
       "1       \"   :The copyright is disputable? What's that ...     jigsaw\n",
       "2       Notable per WP:VICTIM & falls under WP:BIO1E, ...     jigsaw\n",
       "3       (from my talk page) Looks like this has been s...     jigsaw\n",
       "4       \":Hi Steve,   :# Noted on your comments about ...     jigsaw\n",
       "...                                                   ...        ...\n",
       "226021                                   What's a riddle?  anthropic\n",
       "226022  \"  The David Blaikie piece mentions that Will ...     jigsaw\n",
       "226023  if that is what it meant the last version was ...     jigsaw\n",
       "226024  \"== David's old JavaScript repository ==    No...     jigsaw\n",
       "226025  Ah, but perhaps this is off topic?!? Even thou...     jigsaw\n",
       "\n",
       "[226026 rows x 2 columns]"
      ],
      "text/html": [
       "<div>\n",
       "<style scoped>\n",
       "    .dataframe tbody tr th:only-of-type {\n",
       "        vertical-align: middle;\n",
       "    }\n",
       "\n",
       "    .dataframe tbody tr th {\n",
       "        vertical-align: top;\n",
       "    }\n",
       "\n",
       "    .dataframe thead th {\n",
       "        text-align: right;\n",
       "    }\n",
       "</style>\n",
       "<table border=\"1\" class=\"dataframe\">\n",
       "  <thead>\n",
       "    <tr style=\"text-align: right;\">\n",
       "      <th></th>\n",
       "      <th>prompt</th>\n",
       "      <th>category</th>\n",
       "    </tr>\n",
       "  </thead>\n",
       "  <tbody>\n",
       "    <tr>\n",
       "      <th>0</th>\n",
       "      <td>Indeed, I noticed the hand trembling as well.</td>\n",
       "      <td>jigsaw</td>\n",
       "    </tr>\n",
       "    <tr>\n",
       "      <th>1</th>\n",
       "      <td>\"   :The copyright is disputable? What's that ...</td>\n",
       "      <td>jigsaw</td>\n",
       "    </tr>\n",
       "    <tr>\n",
       "      <th>2</th>\n",
       "      <td>Notable per WP:VICTIM &amp; falls under WP:BIO1E, ...</td>\n",
       "      <td>jigsaw</td>\n",
       "    </tr>\n",
       "    <tr>\n",
       "      <th>3</th>\n",
       "      <td>(from my talk page) Looks like this has been s...</td>\n",
       "      <td>jigsaw</td>\n",
       "    </tr>\n",
       "    <tr>\n",
       "      <th>4</th>\n",
       "      <td>\":Hi Steve,   :# Noted on your comments about ...</td>\n",
       "      <td>jigsaw</td>\n",
       "    </tr>\n",
       "    <tr>\n",
       "      <th>...</th>\n",
       "      <td>...</td>\n",
       "      <td>...</td>\n",
       "    </tr>\n",
       "    <tr>\n",
       "      <th>226021</th>\n",
       "      <td>What's a riddle?</td>\n",
       "      <td>anthropic</td>\n",
       "    </tr>\n",
       "    <tr>\n",
       "      <th>226022</th>\n",
       "      <td>\"  The David Blaikie piece mentions that Will ...</td>\n",
       "      <td>jigsaw</td>\n",
       "    </tr>\n",
       "    <tr>\n",
       "      <th>226023</th>\n",
       "      <td>if that is what it meant the last version was ...</td>\n",
       "      <td>jigsaw</td>\n",
       "    </tr>\n",
       "    <tr>\n",
       "      <th>226024</th>\n",
       "      <td>\"== David's old JavaScript repository ==    No...</td>\n",
       "      <td>jigsaw</td>\n",
       "    </tr>\n",
       "    <tr>\n",
       "      <th>226025</th>\n",
       "      <td>Ah, but perhaps this is off topic?!? Even thou...</td>\n",
       "      <td>jigsaw</td>\n",
       "    </tr>\n",
       "  </tbody>\n",
       "</table>\n",
       "<p>226026 rows × 2 columns</p>\n",
       "</div>"
      ]
     },
     "execution_count": 10,
     "metadata": {},
     "output_type": "execute_result"
    }
   ],
   "execution_count": 10
  }
 ],
 "metadata": {
  "kernelspec": {
   "display_name": "Python [conda env:pure]",
   "language": "python",
   "name": "conda-env-pure-py"
  },
  "language_info": {
   "codemirror_mode": {
    "name": "ipython",
    "version": 3
   },
   "file_extension": ".py",
   "mimetype": "text/x-python",
   "name": "python",
   "nbconvert_exporter": "python",
   "pygments_lexer": "ipython3",
   "version": "3.9.19"
  }
 },
 "nbformat": 4,
 "nbformat_minor": 5
}
