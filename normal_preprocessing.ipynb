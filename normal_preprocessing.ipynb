{
 "cells": [
  {
   "cell_type": "code",
   "id": "1c1f7bd4-de55-4b28-abb5-ca3ad1968f4d",
   "metadata": {
    "ExecuteTime": {
     "end_time": "2024-06-20T03:33:51.568266Z",
     "start_time": "2024-06-20T03:33:51.437120Z"
    }
   },
   "source": [
    "import pandas as pd"
   ],
   "outputs": [],
   "execution_count": 1
  },
  {
   "cell_type": "markdown",
   "id": "08f976bb-518a-49f3-a869-997e2dd2df44",
   "metadata": {},
   "source": [
    "## Jigsaw Toxic Comments"
   ]
  },
  {
   "cell_type": "code",
   "id": "fbe1a257-ed6b-466d-9a1b-bdc626b6e16b",
   "metadata": {
    "ExecuteTime": {
     "end_time": "2024-06-20T03:33:52.401955Z",
     "start_time": "2024-06-20T03:33:51.569130Z"
    }
   },
   "source": [
    "jigsaw_train = pd.read_csv(\"./data/raw/jigsaw/train.csv\")\n",
    "jigsaw_test = pd.read_csv(\"./data/raw/jigsaw/test.csv\")\n",
    "jigsaw_test_labels = pd.read_csv(\"./data/raw/jigsaw/test_labels.csv\")"
   ],
   "outputs": [],
   "execution_count": 2
  },
  {
   "cell_type": "code",
   "id": "1e461a72-4d69-4ee3-acc8-3ec635fbf889",
   "metadata": {
    "ExecuteTime": {
     "end_time": "2024-06-20T03:33:52.521638Z",
     "start_time": "2024-06-20T03:33:52.402591Z"
    }
   },
   "source": [
    "jigsaw_test = pd.merge(jigsaw_test, jigsaw_test_labels, on=\"id\", how=\"inner\", validate=\"1:1\")"
   ],
   "outputs": [],
   "execution_count": 3
  },
  {
   "metadata": {
    "ExecuteTime": {
     "end_time": "2024-06-20T03:33:52.553478Z",
     "start_time": "2024-06-20T03:33:52.522613Z"
    }
   },
   "cell_type": "code",
   "source": [
    "jigsaw_df = pd.concat([jigsaw_train, jigsaw_test]).reset_index(drop=True)\n",
    "jigsaw_normal = jigsaw_df.loc[(jigsaw_df.iloc[:, -6:] == 0).all(axis=1)]\n",
    "jigsaw_normal_prompts = jigsaw_normal[\"comment_text\"].tolist()"
   ],
   "id": "5b64f620683cff3c",
   "outputs": [],
   "execution_count": 4
  },
  {
   "cell_type": "markdown",
   "id": "7569f697-4c07-4eab-a85b-fb9fc4ba48f2",
   "metadata": {},
   "source": [
    "## Anthropic HH-RLHF"
   ]
  },
  {
   "cell_type": "code",
   "id": "7f2159e8-023d-4b82-b621-af5cc917d1e4",
   "metadata": {
    "ExecuteTime": {
     "end_time": "2024-06-20T03:33:54.032633Z",
     "start_time": "2024-06-20T03:33:52.554116Z"
    }
   },
   "source": [
    "anthropic_train_helpful = pd.read_json(\"./data/raw/anthropic/helpful_base/train.jsonl\", lines=True)\n",
    "anthropic_test_helpful = pd.read_json(\"./data/raw/anthropic/helpful_base/test.jsonl\", lines=True)\n",
    "\n",
    "anthropic_train_helpful_online = pd.read_json(\"./data/raw/anthropic/helpful_online/train.jsonl\", lines=True)\n",
    "anthropic_test_helpful_online = pd.read_json(\"./data/raw/anthropic/helpful_online/test.jsonl\", lines=True)"
   ],
   "outputs": [],
   "execution_count": 5
  },
  {
   "metadata": {
    "ExecuteTime": {
     "end_time": "2024-06-20T03:33:54.122374Z",
     "start_time": "2024-06-20T03:33:54.033289Z"
    }
   },
   "cell_type": "code",
   "source": [
    "anthropic_df = pd.concat([anthropic_train_helpful, anthropic_test_helpful, anthropic_train_helpful_online, anthropic_test_helpful_online]).reset_index(drop=True)\n",
    "anthropic_df[\"chosen\"] = anthropic_df[\"chosen\"].apply(lambda x: \" \".join(x.split(\"\\n\\n\")[1].split()[1:]))\n",
    "anthropic_df = anthropic_df.drop_duplicates(subset=[\"chosen\"]).reset_index(drop=True)"
   ],
   "id": "cbd354113297169d",
   "outputs": [],
   "execution_count": 6
  },
  {
   "metadata": {
    "ExecuteTime": {
     "end_time": "2024-06-20T03:33:54.124747Z",
     "start_time": "2024-06-20T03:33:54.123027Z"
    }
   },
   "cell_type": "code",
   "source": "anthropic_normal_prompts = anthropic_df[\"chosen\"].tolist()",
   "id": "8cc7ee2afd2921c3",
   "outputs": [],
   "execution_count": 7
  },
  {
   "metadata": {
    "ExecuteTime": {
     "end_time": "2024-06-20T03:33:54.933535Z",
     "start_time": "2024-06-20T03:33:54.125204Z"
    }
   },
   "cell_type": "code",
   "source": [
    "normal_prompts = pd.DataFrame({\"prompt\": jigsaw_normal_prompts + anthropic_normal_prompts, \"category\": [\"jigsaw\"] * len(jigsaw_normal_prompts) + [\"anthropic\"] * len(anthropic_normal_prompts)})\n",
    "normal_prompts = normal_prompts.sample(frac=1).reset_index(drop=True)\n",
    "normal_prompts.to_csv(\"./data/processed/normal_prompts.csv\", index=False)"
   ],
   "id": "61a46a1ca5afe3a9",
   "outputs": [],
   "execution_count": 8
  },
  {
   "metadata": {
    "ExecuteTime": {
     "end_time": "2024-06-20T03:33:54.938716Z",
     "start_time": "2024-06-20T03:33:54.934071Z"
    }
   },
   "cell_type": "code",
   "source": "normal_prompts",
   "id": "bf4419ee70cf9246",
   "outputs": [
    {
     "data": {
      "text/plain": [
       "                                                   prompt   category\n",
       "0       \"\\n\\n Unblock request \\n\\nIP address redacted ...     jigsaw\n",
       "1        What does all this have to do with the article??     jigsaw\n",
       "2       My article \\n\\nCheck out my article, you might...     jigsaw\n",
       "3                             howdo you upload a picture?     jigsaw\n",
       "4       \"==Your edit to AK-47==\\nHi, and welcome to Wi...     jigsaw\n",
       "...                                                   ...        ...\n",
       "226021  Sorry, I forgot that we wish to fill half the ...     jigsaw\n",
       "226022                     How do you become a detective?  anthropic\n",
       "226023  And I am most pleased to see a fellow creation...     jigsaw\n",
       "226024  So? and your point is.  WHy don't you ask him ...     jigsaw\n",
       "226025  Explanation, please \\n\\nDear, Mr. Favonian,\\nC...     jigsaw\n",
       "\n",
       "[226026 rows x 2 columns]"
      ],
      "text/html": [
       "<div>\n",
       "<style scoped>\n",
       "    .dataframe tbody tr th:only-of-type {\n",
       "        vertical-align: middle;\n",
       "    }\n",
       "\n",
       "    .dataframe tbody tr th {\n",
       "        vertical-align: top;\n",
       "    }\n",
       "\n",
       "    .dataframe thead th {\n",
       "        text-align: right;\n",
       "    }\n",
       "</style>\n",
       "<table border=\"1\" class=\"dataframe\">\n",
       "  <thead>\n",
       "    <tr style=\"text-align: right;\">\n",
       "      <th></th>\n",
       "      <th>prompt</th>\n",
       "      <th>category</th>\n",
       "    </tr>\n",
       "  </thead>\n",
       "  <tbody>\n",
       "    <tr>\n",
       "      <th>0</th>\n",
       "      <td>\"\\n\\n Unblock request \\n\\nIP address redacted ...</td>\n",
       "      <td>jigsaw</td>\n",
       "    </tr>\n",
       "    <tr>\n",
       "      <th>1</th>\n",
       "      <td>What does all this have to do with the article??</td>\n",
       "      <td>jigsaw</td>\n",
       "    </tr>\n",
       "    <tr>\n",
       "      <th>2</th>\n",
       "      <td>My article \\n\\nCheck out my article, you might...</td>\n",
       "      <td>jigsaw</td>\n",
       "    </tr>\n",
       "    <tr>\n",
       "      <th>3</th>\n",
       "      <td>howdo you upload a picture?</td>\n",
       "      <td>jigsaw</td>\n",
       "    </tr>\n",
       "    <tr>\n",
       "      <th>4</th>\n",
       "      <td>\"==Your edit to AK-47==\\nHi, and welcome to Wi...</td>\n",
       "      <td>jigsaw</td>\n",
       "    </tr>\n",
       "    <tr>\n",
       "      <th>...</th>\n",
       "      <td>...</td>\n",
       "      <td>...</td>\n",
       "    </tr>\n",
       "    <tr>\n",
       "      <th>226021</th>\n",
       "      <td>Sorry, I forgot that we wish to fill half the ...</td>\n",
       "      <td>jigsaw</td>\n",
       "    </tr>\n",
       "    <tr>\n",
       "      <th>226022</th>\n",
       "      <td>How do you become a detective?</td>\n",
       "      <td>anthropic</td>\n",
       "    </tr>\n",
       "    <tr>\n",
       "      <th>226023</th>\n",
       "      <td>And I am most pleased to see a fellow creation...</td>\n",
       "      <td>jigsaw</td>\n",
       "    </tr>\n",
       "    <tr>\n",
       "      <th>226024</th>\n",
       "      <td>So? and your point is.  WHy don't you ask him ...</td>\n",
       "      <td>jigsaw</td>\n",
       "    </tr>\n",
       "    <tr>\n",
       "      <th>226025</th>\n",
       "      <td>Explanation, please \\n\\nDear, Mr. Favonian,\\nC...</td>\n",
       "      <td>jigsaw</td>\n",
       "    </tr>\n",
       "  </tbody>\n",
       "</table>\n",
       "<p>226026 rows × 2 columns</p>\n",
       "</div>"
      ]
     },
     "execution_count": 9,
     "metadata": {},
     "output_type": "execute_result"
    }
   ],
   "execution_count": 9
  }
 ],
 "metadata": {
  "kernelspec": {
   "display_name": "Python [conda env:pure]",
   "language": "python",
   "name": "conda-env-pure-py"
  },
  "language_info": {
   "codemirror_mode": {
    "name": "ipython",
    "version": 3
   },
   "file_extension": ".py",
   "mimetype": "text/x-python",
   "name": "python",
   "nbconvert_exporter": "python",
   "pygments_lexer": "ipython3",
   "version": "3.9.19"
  }
 },
 "nbformat": 4,
 "nbformat_minor": 5
}
