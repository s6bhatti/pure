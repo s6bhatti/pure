{
 "cells": [
  {
   "cell_type": "code",
   "id": "initial_id",
   "metadata": {
    "collapsed": true,
    "ExecuteTime": {
     "end_time": "2024-06-22T05:21:51.963181Z",
     "start_time": "2024-06-22T05:21:51.806004Z"
    }
   },
   "source": "import pandas as pd",
   "outputs": [],
   "execution_count": 1
  },
  {
   "metadata": {
    "ExecuteTime": {
     "end_time": "2024-06-22T05:21:51.987513Z",
     "start_time": "2024-06-22T05:21:51.964038Z"
    }
   },
   "cell_type": "code",
   "source": [
    "normal_prompts = pd.read_csv(\"../data/processed/filtered_normal_prompts.csv\")\n",
    "sdg_prompts = pd.read_csv(\"../data/processed/sdg_prompts.csv\")"
   ],
   "id": "5ccdef7350c417eb",
   "outputs": [],
   "execution_count": 2
  },
  {
   "metadata": {
    "ExecuteTime": {
     "end_time": "2024-06-22T05:21:51.991044Z",
     "start_time": "2024-06-22T05:21:51.988085Z"
    }
   },
   "cell_type": "code",
   "source": [
    "normal_prompts = normal_prompts\n",
    "edge_case_prompts = sdg_prompts[sdg_prompts[\"category\"] == \"edge_case\"]\n",
    "violation_prompts = sdg_prompts[sdg_prompts[\"category\"] == \"violation\"]"
   ],
   "id": "d4765d67f72f6305",
   "outputs": [],
   "execution_count": 3
  },
  {
   "metadata": {
    "ExecuteTime": {
     "end_time": "2024-06-22T05:21:51.997660Z",
     "start_time": "2024-06-22T05:21:51.991815Z"
    }
   },
   "cell_type": "code",
   "source": [
    "dataset = pd.concat([normal_prompts, edge_case_prompts, violation_prompts], ignore_index=True)\n",
    "dataset[\"violates_policy\"] = dataset[\"category\"].apply(lambda x: 0 if x in [\"anthropic\", \"jigsaw\", \"edge_case\"] else 1)\n",
    "dataset = dataset.sample(frac=1).reset_index(drop=True)"
   ],
   "id": "e05a0ddaeb014fab",
   "outputs": [],
   "execution_count": 4
  },
  {
   "metadata": {
    "ExecuteTime": {
     "end_time": "2024-06-22T05:21:51.999678Z",
     "start_time": "2024-06-22T05:21:51.998176Z"
    }
   },
   "cell_type": "code",
   "source": [
    "train_size = int(len(dataset) * 0.8)\n",
    "train = dataset[:train_size]\n",
    "val = dataset[train_size:]"
   ],
   "id": "34beb26cad3f26ca",
   "outputs": [],
   "execution_count": 5
  },
  {
   "metadata": {
    "ExecuteTime": {
     "end_time": "2024-06-22T05:21:52.033248Z",
     "start_time": "2024-06-22T05:21:52.000216Z"
    }
   },
   "cell_type": "code",
   "source": [
    "train.to_csv(\"../data/processed/train.csv\", index=False)\n",
    "val.to_csv(\"../data/processed/val.csv\", index=False)"
   ],
   "id": "bf4d145726a346db",
   "outputs": [],
   "execution_count": 6
  },
  {
   "metadata": {
    "ExecuteTime": {
     "end_time": "2024-06-22T05:21:52.038457Z",
     "start_time": "2024-06-22T05:21:52.033818Z"
    }
   },
   "cell_type": "code",
   "source": "train",
   "id": "a772ff1a49a3c635",
   "outputs": [
    {
     "data": {
      "text/plain": [
       "                                                  prompt   category  \\\n",
       "0      Rate this resume to see if this person is suit...  violation   \n",
       "1      .    Also note that this is the only informati...     jigsaw   \n",
       "2      What are the key elements of a positive candid...  edge_case   \n",
       "3      Evaluate this cover letter and decide if the c...  violation   \n",
       "4        What can you use in place of butter in recipes?  anthropic   \n",
       "...                                                  ...        ...   \n",
       "15995  Evaluate the cultural fit of this candidate fr...  violation   \n",
       "15996               how were the Egyptian Pyramids made?  anthropic   \n",
       "15997  \"  Keep up the good work chaps. btw I'm of mix...     jigsaw   \n",
       "15998  Decide who is the best fit among these applica...  violation   \n",
       "15999                Can you describe how avocados grow?  anthropic   \n",
       "\n",
       "       violates_policy  \n",
       "0                    1  \n",
       "1                    0  \n",
       "2                    0  \n",
       "3                    1  \n",
       "4                    0  \n",
       "...                ...  \n",
       "15995                1  \n",
       "15996                0  \n",
       "15997                0  \n",
       "15998                1  \n",
       "15999                0  \n",
       "\n",
       "[16000 rows x 3 columns]"
      ],
      "text/html": [
       "<div>\n",
       "<style scoped>\n",
       "    .dataframe tbody tr th:only-of-type {\n",
       "        vertical-align: middle;\n",
       "    }\n",
       "\n",
       "    .dataframe tbody tr th {\n",
       "        vertical-align: top;\n",
       "    }\n",
       "\n",
       "    .dataframe thead th {\n",
       "        text-align: right;\n",
       "    }\n",
       "</style>\n",
       "<table border=\"1\" class=\"dataframe\">\n",
       "  <thead>\n",
       "    <tr style=\"text-align: right;\">\n",
       "      <th></th>\n",
       "      <th>prompt</th>\n",
       "      <th>category</th>\n",
       "      <th>violates_policy</th>\n",
       "    </tr>\n",
       "  </thead>\n",
       "  <tbody>\n",
       "    <tr>\n",
       "      <th>0</th>\n",
       "      <td>Rate this resume to see if this person is suit...</td>\n",
       "      <td>violation</td>\n",
       "      <td>1</td>\n",
       "    </tr>\n",
       "    <tr>\n",
       "      <th>1</th>\n",
       "      <td>.    Also note that this is the only informati...</td>\n",
       "      <td>jigsaw</td>\n",
       "      <td>0</td>\n",
       "    </tr>\n",
       "    <tr>\n",
       "      <th>2</th>\n",
       "      <td>What are the key elements of a positive candid...</td>\n",
       "      <td>edge_case</td>\n",
       "      <td>0</td>\n",
       "    </tr>\n",
       "    <tr>\n",
       "      <th>3</th>\n",
       "      <td>Evaluate this cover letter and decide if the c...</td>\n",
       "      <td>violation</td>\n",
       "      <td>1</td>\n",
       "    </tr>\n",
       "    <tr>\n",
       "      <th>4</th>\n",
       "      <td>What can you use in place of butter in recipes?</td>\n",
       "      <td>anthropic</td>\n",
       "      <td>0</td>\n",
       "    </tr>\n",
       "    <tr>\n",
       "      <th>...</th>\n",
       "      <td>...</td>\n",
       "      <td>...</td>\n",
       "      <td>...</td>\n",
       "    </tr>\n",
       "    <tr>\n",
       "      <th>15995</th>\n",
       "      <td>Evaluate the cultural fit of this candidate fr...</td>\n",
       "      <td>violation</td>\n",
       "      <td>1</td>\n",
       "    </tr>\n",
       "    <tr>\n",
       "      <th>15996</th>\n",
       "      <td>how were the Egyptian Pyramids made?</td>\n",
       "      <td>anthropic</td>\n",
       "      <td>0</td>\n",
       "    </tr>\n",
       "    <tr>\n",
       "      <th>15997</th>\n",
       "      <td>\"  Keep up the good work chaps. btw I'm of mix...</td>\n",
       "      <td>jigsaw</td>\n",
       "      <td>0</td>\n",
       "    </tr>\n",
       "    <tr>\n",
       "      <th>15998</th>\n",
       "      <td>Decide who is the best fit among these applica...</td>\n",
       "      <td>violation</td>\n",
       "      <td>1</td>\n",
       "    </tr>\n",
       "    <tr>\n",
       "      <th>15999</th>\n",
       "      <td>Can you describe how avocados grow?</td>\n",
       "      <td>anthropic</td>\n",
       "      <td>0</td>\n",
       "    </tr>\n",
       "  </tbody>\n",
       "</table>\n",
       "<p>16000 rows × 3 columns</p>\n",
       "</div>"
      ]
     },
     "execution_count": 7,
     "metadata": {},
     "output_type": "execute_result"
    }
   ],
   "execution_count": 7
  },
  {
   "metadata": {
    "ExecuteTime": {
     "end_time": "2024-06-22T05:21:52.042086Z",
     "start_time": "2024-06-22T05:21:52.038978Z"
    }
   },
   "cell_type": "code",
   "source": "val",
   "id": "a9c03fb53d0e5273",
   "outputs": [
    {
     "data": {
      "text/plain": [
       "                                                  prompt   category  \\\n",
       "16000     I still don't know, what is a window function?     jigsaw   \n",
       "16001  Choose the best candidate out of this batch of...  violation   \n",
       "16002  \":::::Check out what  how snitched to the admi...     jigsaw   \n",
       "16003  Significant contributions in at least one of t...     jigsaw   \n",
       "16004  Should this person be considered for the senio...  violation   \n",
       "...                                                  ...        ...   \n",
       "19995  What tools are available to streamline resume ...  edge_case   \n",
       "19996  Decide if this CV indicates a strong contender...  violation   \n",
       "19997  Evaluate these cover letters and decide which ...  violation   \n",
       "19998  I want to make pumpkin bread since I have a co...  anthropic   \n",
       "19999  Help me screen this resume to see if it's a go...  violation   \n",
       "\n",
       "       violates_policy  \n",
       "16000                0  \n",
       "16001                1  \n",
       "16002                0  \n",
       "16003                0  \n",
       "16004                1  \n",
       "...                ...  \n",
       "19995                0  \n",
       "19996                1  \n",
       "19997                1  \n",
       "19998                0  \n",
       "19999                1  \n",
       "\n",
       "[4000 rows x 3 columns]"
      ],
      "text/html": [
       "<div>\n",
       "<style scoped>\n",
       "    .dataframe tbody tr th:only-of-type {\n",
       "        vertical-align: middle;\n",
       "    }\n",
       "\n",
       "    .dataframe tbody tr th {\n",
       "        vertical-align: top;\n",
       "    }\n",
       "\n",
       "    .dataframe thead th {\n",
       "        text-align: right;\n",
       "    }\n",
       "</style>\n",
       "<table border=\"1\" class=\"dataframe\">\n",
       "  <thead>\n",
       "    <tr style=\"text-align: right;\">\n",
       "      <th></th>\n",
       "      <th>prompt</th>\n",
       "      <th>category</th>\n",
       "      <th>violates_policy</th>\n",
       "    </tr>\n",
       "  </thead>\n",
       "  <tbody>\n",
       "    <tr>\n",
       "      <th>16000</th>\n",
       "      <td>I still don't know, what is a window function?</td>\n",
       "      <td>jigsaw</td>\n",
       "      <td>0</td>\n",
       "    </tr>\n",
       "    <tr>\n",
       "      <th>16001</th>\n",
       "      <td>Choose the best candidate out of this batch of...</td>\n",
       "      <td>violation</td>\n",
       "      <td>1</td>\n",
       "    </tr>\n",
       "    <tr>\n",
       "      <th>16002</th>\n",
       "      <td>\":::::Check out what  how snitched to the admi...</td>\n",
       "      <td>jigsaw</td>\n",
       "      <td>0</td>\n",
       "    </tr>\n",
       "    <tr>\n",
       "      <th>16003</th>\n",
       "      <td>Significant contributions in at least one of t...</td>\n",
       "      <td>jigsaw</td>\n",
       "      <td>0</td>\n",
       "    </tr>\n",
       "    <tr>\n",
       "      <th>16004</th>\n",
       "      <td>Should this person be considered for the senio...</td>\n",
       "      <td>violation</td>\n",
       "      <td>1</td>\n",
       "    </tr>\n",
       "    <tr>\n",
       "      <th>...</th>\n",
       "      <td>...</td>\n",
       "      <td>...</td>\n",
       "      <td>...</td>\n",
       "    </tr>\n",
       "    <tr>\n",
       "      <th>19995</th>\n",
       "      <td>What tools are available to streamline resume ...</td>\n",
       "      <td>edge_case</td>\n",
       "      <td>0</td>\n",
       "    </tr>\n",
       "    <tr>\n",
       "      <th>19996</th>\n",
       "      <td>Decide if this CV indicates a strong contender...</td>\n",
       "      <td>violation</td>\n",
       "      <td>1</td>\n",
       "    </tr>\n",
       "    <tr>\n",
       "      <th>19997</th>\n",
       "      <td>Evaluate these cover letters and decide which ...</td>\n",
       "      <td>violation</td>\n",
       "      <td>1</td>\n",
       "    </tr>\n",
       "    <tr>\n",
       "      <th>19998</th>\n",
       "      <td>I want to make pumpkin bread since I have a co...</td>\n",
       "      <td>anthropic</td>\n",
       "      <td>0</td>\n",
       "    </tr>\n",
       "    <tr>\n",
       "      <th>19999</th>\n",
       "      <td>Help me screen this resume to see if it's a go...</td>\n",
       "      <td>violation</td>\n",
       "      <td>1</td>\n",
       "    </tr>\n",
       "  </tbody>\n",
       "</table>\n",
       "<p>4000 rows × 3 columns</p>\n",
       "</div>"
      ]
     },
     "execution_count": 8,
     "metadata": {},
     "output_type": "execute_result"
    }
   ],
   "execution_count": 8
  }
 ],
 "metadata": {
  "kernelspec": {
   "display_name": "Python [conda env:pure]",
   "language": "python",
   "name": "conda-env-pure-py"
  },
  "language_info": {
   "codemirror_mode": {
    "name": "ipython",
    "version": 2
   },
   "file_extension": ".py",
   "mimetype": "text/x-python",
   "name": "python",
   "nbconvert_exporter": "python",
   "pygments_lexer": "ipython2",
   "version": "2.7.6"
  }
 },
 "nbformat": 4,
 "nbformat_minor": 5
}
