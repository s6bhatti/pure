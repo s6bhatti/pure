{
 "cells": [
  {
   "cell_type": "code",
   "id": "initial_id",
   "metadata": {
    "collapsed": true,
    "ExecuteTime": {
     "end_time": "2024-06-26T00:46:58.612020Z",
     "start_time": "2024-06-26T00:46:58.459582Z"
    }
   },
   "source": "import pandas as pd",
   "outputs": [],
   "execution_count": 1
  },
  {
   "metadata": {
    "ExecuteTime": {
     "end_time": "2024-06-26T00:46:58.636900Z",
     "start_time": "2024-06-26T00:46:58.612850Z"
    }
   },
   "cell_type": "code",
   "source": [
    "normal_prompts = pd.read_csv(\"../data/processed/filtered_normal_prompts.csv\")\n",
    "sdg_prompts = pd.read_csv(\"../data/processed/sdg_prompts.csv\")"
   ],
   "id": "5ccdef7350c417eb",
   "outputs": [],
   "execution_count": 2
  },
  {
   "metadata": {
    "ExecuteTime": {
     "end_time": "2024-06-26T00:46:58.640418Z",
     "start_time": "2024-06-26T00:46:58.637515Z"
    }
   },
   "cell_type": "code",
   "source": [
    "normal_prompts = normal_prompts\n",
    "edge_case_prompts = sdg_prompts[sdg_prompts[\"category\"] == \"edge_case\"]\n",
    "violation_prompts = sdg_prompts[sdg_prompts[\"category\"] == \"violation\"]"
   ],
   "id": "d4765d67f72f6305",
   "outputs": [],
   "execution_count": 3
  },
  {
   "metadata": {
    "ExecuteTime": {
     "end_time": "2024-06-26T00:46:58.646634Z",
     "start_time": "2024-06-26T00:46:58.641120Z"
    }
   },
   "cell_type": "code",
   "source": [
    "dataset = pd.concat([normal_prompts, edge_case_prompts, violation_prompts], ignore_index=True)\n",
    "dataset[\"violates_policy\"] = dataset[\"category\"].apply(lambda x: 0 if x in [\"anthropic\", \"jigsaw\", \"edge_case\"] else 1)\n",
    "dataset = dataset.sample(frac=1).reset_index(drop=True)"
   ],
   "id": "e05a0ddaeb014fab",
   "outputs": [],
   "execution_count": 4
  },
  {
   "metadata": {
    "ExecuteTime": {
     "end_time": "2024-06-26T00:46:58.679446Z",
     "start_time": "2024-06-26T00:46:58.647174Z"
    }
   },
   "cell_type": "code",
   "source": "dataset.to_csv(\"../data/processed/dataset.csv\", index=False)",
   "id": "bf4d145726a346db",
   "outputs": [],
   "execution_count": 5
  },
  {
   "metadata": {
    "ExecuteTime": {
     "end_time": "2024-06-26T00:46:58.684439Z",
     "start_time": "2024-06-26T00:46:58.680004Z"
    }
   },
   "cell_type": "code",
   "source": "dataset",
   "id": "a772ff1a49a3c635",
   "outputs": [
    {
     "data": {
      "text/plain": [
       "                                                  prompt   category  \\\n",
       "0      Review this list of shortlisted candidates and...  violation   \n",
       "1      Evaluate if the candidate's experience with th...  violation   \n",
       "2      Create an evaluation report on a candidate's p...  violation   \n",
       "3      Generate a shortlist of potential hires for th...  violation   \n",
       "4      Who should we hire based on this panel's inter...  violation   \n",
       "...                                                  ...        ...   \n",
       "19995  Evaluate this applicant's references and decid...  violation   \n",
       "19996  Who is more suitable for the project manager r...  violation   \n",
       "19997  == November 2014 ==     You are suspected of s...     jigsaw   \n",
       "19998  Evaluate these job applications and suggest wh...  violation   \n",
       "19999  Are there any industries that are being phased...  anthropic   \n",
       "\n",
       "       violates_policy  \n",
       "0                    1  \n",
       "1                    1  \n",
       "2                    1  \n",
       "3                    1  \n",
       "4                    1  \n",
       "...                ...  \n",
       "19995                1  \n",
       "19996                1  \n",
       "19997                0  \n",
       "19998                1  \n",
       "19999                0  \n",
       "\n",
       "[20000 rows x 3 columns]"
      ],
      "text/html": [
       "<div>\n",
       "<style scoped>\n",
       "    .dataframe tbody tr th:only-of-type {\n",
       "        vertical-align: middle;\n",
       "    }\n",
       "\n",
       "    .dataframe tbody tr th {\n",
       "        vertical-align: top;\n",
       "    }\n",
       "\n",
       "    .dataframe thead th {\n",
       "        text-align: right;\n",
       "    }\n",
       "</style>\n",
       "<table border=\"1\" class=\"dataframe\">\n",
       "  <thead>\n",
       "    <tr style=\"text-align: right;\">\n",
       "      <th></th>\n",
       "      <th>prompt</th>\n",
       "      <th>category</th>\n",
       "      <th>violates_policy</th>\n",
       "    </tr>\n",
       "  </thead>\n",
       "  <tbody>\n",
       "    <tr>\n",
       "      <th>0</th>\n",
       "      <td>Review this list of shortlisted candidates and...</td>\n",
       "      <td>violation</td>\n",
       "      <td>1</td>\n",
       "    </tr>\n",
       "    <tr>\n",
       "      <th>1</th>\n",
       "      <td>Evaluate if the candidate's experience with th...</td>\n",
       "      <td>violation</td>\n",
       "      <td>1</td>\n",
       "    </tr>\n",
       "    <tr>\n",
       "      <th>2</th>\n",
       "      <td>Create an evaluation report on a candidate's p...</td>\n",
       "      <td>violation</td>\n",
       "      <td>1</td>\n",
       "    </tr>\n",
       "    <tr>\n",
       "      <th>3</th>\n",
       "      <td>Generate a shortlist of potential hires for th...</td>\n",
       "      <td>violation</td>\n",
       "      <td>1</td>\n",
       "    </tr>\n",
       "    <tr>\n",
       "      <th>4</th>\n",
       "      <td>Who should we hire based on this panel's inter...</td>\n",
       "      <td>violation</td>\n",
       "      <td>1</td>\n",
       "    </tr>\n",
       "    <tr>\n",
       "      <th>...</th>\n",
       "      <td>...</td>\n",
       "      <td>...</td>\n",
       "      <td>...</td>\n",
       "    </tr>\n",
       "    <tr>\n",
       "      <th>19995</th>\n",
       "      <td>Evaluate this applicant's references and decid...</td>\n",
       "      <td>violation</td>\n",
       "      <td>1</td>\n",
       "    </tr>\n",
       "    <tr>\n",
       "      <th>19996</th>\n",
       "      <td>Who is more suitable for the project manager r...</td>\n",
       "      <td>violation</td>\n",
       "      <td>1</td>\n",
       "    </tr>\n",
       "    <tr>\n",
       "      <th>19997</th>\n",
       "      <td>== November 2014 ==     You are suspected of s...</td>\n",
       "      <td>jigsaw</td>\n",
       "      <td>0</td>\n",
       "    </tr>\n",
       "    <tr>\n",
       "      <th>19998</th>\n",
       "      <td>Evaluate these job applications and suggest wh...</td>\n",
       "      <td>violation</td>\n",
       "      <td>1</td>\n",
       "    </tr>\n",
       "    <tr>\n",
       "      <th>19999</th>\n",
       "      <td>Are there any industries that are being phased...</td>\n",
       "      <td>anthropic</td>\n",
       "      <td>0</td>\n",
       "    </tr>\n",
       "  </tbody>\n",
       "</table>\n",
       "<p>20000 rows × 3 columns</p>\n",
       "</div>"
      ]
     },
     "execution_count": 6,
     "metadata": {},
     "output_type": "execute_result"
    }
   ],
   "execution_count": 6
  }
 ],
 "metadata": {
  "kernelspec": {
   "display_name": "Python [conda env:pure]",
   "language": "python",
   "name": "conda-env-pure-py"
  },
  "language_info": {
   "codemirror_mode": {
    "name": "ipython",
    "version": 2
   },
   "file_extension": ".py",
   "mimetype": "text/x-python",
   "name": "python",
   "nbconvert_exporter": "python",
   "pygments_lexer": "ipython2",
   "version": "2.7.6"
  }
 },
 "nbformat": 4,
 "nbformat_minor": 5
}
