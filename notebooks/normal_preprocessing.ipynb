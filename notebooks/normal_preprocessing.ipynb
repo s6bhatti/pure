{
 "cells": [
  {
   "cell_type": "code",
   "id": "1c1f7bd4-de55-4b28-abb5-ca3ad1968f4d",
   "metadata": {
    "ExecuteTime": {
     "end_time": "2024-06-22T04:10:42.655720Z",
     "start_time": "2024-06-22T04:10:42.528134Z"
    }
   },
   "source": [
    "import re\n",
    "\n",
    "import pandas as pd"
   ],
   "outputs": [],
   "execution_count": 1
  },
  {
   "cell_type": "markdown",
   "id": "08f976bb-518a-49f3-a869-997e2dd2df44",
   "metadata": {},
   "source": [
    "## Jigsaw Toxic Comments"
   ]
  },
  {
   "cell_type": "code",
   "id": "fbe1a257-ed6b-466d-9a1b-bdc626b6e16b",
   "metadata": {
    "ExecuteTime": {
     "end_time": "2024-06-22T04:10:43.510922Z",
     "start_time": "2024-06-22T04:10:42.656436Z"
    }
   },
   "source": [
    "jigsaw_train = pd.read_csv(\"../data/raw/jigsaw/train.csv\")\n",
    "jigsaw_test = pd.read_csv(\"../data/raw/jigsaw/test.csv\")\n",
    "jigsaw_test_labels = pd.read_csv(\"../data/raw/jigsaw/test_labels.csv\")"
   ],
   "outputs": [],
   "execution_count": 2
  },
  {
   "cell_type": "code",
   "id": "1e461a72-4d69-4ee3-acc8-3ec635fbf889",
   "metadata": {
    "ExecuteTime": {
     "end_time": "2024-06-22T04:10:43.641910Z",
     "start_time": "2024-06-22T04:10:43.511413Z"
    }
   },
   "source": [
    "jigsaw_test = pd.merge(jigsaw_test, jigsaw_test_labels, on=\"id\", how=\"inner\", validate=\"1:1\")"
   ],
   "outputs": [],
   "execution_count": 3
  },
  {
   "metadata": {
    "ExecuteTime": {
     "end_time": "2024-06-22T04:10:43.644144Z",
     "start_time": "2024-06-22T04:10:43.642418Z"
    }
   },
   "cell_type": "code",
   "source": [
    "def clean_prompt(prompt):\n",
    "    prompt = re.sub(\"\\\\n\", \" \", prompt)\n",
    "    prompt = re.sub(\"\\d{1,3}\\.\\d{1,3}\\.\\d{1,3}\\.\\d{1,3}\", \"\", prompt)\n",
    "    prompt = re.sub(\"\\[\\[.*\\]\", \"\", prompt)\n",
    "    return prompt"
   ],
   "id": "535d2f1661ce5bc",
   "outputs": [],
   "execution_count": 4
  },
  {
   "metadata": {
    "ExecuteTime": {
     "end_time": "2024-06-22T04:10:44.434389Z",
     "start_time": "2024-06-22T04:10:43.644797Z"
    }
   },
   "cell_type": "code",
   "source": [
    "jigsaw_df = pd.concat([jigsaw_train, jigsaw_test]).reset_index(drop=True)\n",
    "jigsaw_normal = jigsaw_df.loc[(jigsaw_df.iloc[:, -6:] == 0).all(axis=1)]\n",
    "jigsaw_normal.loc[:, \"comment_text\"] = jigsaw_normal.loc[:, \"comment_text\"].apply(clean_prompt)\n",
    "jigsaw_normal_prompts = jigsaw_normal[\"comment_text\"].tolist()"
   ],
   "id": "96e0a038e1f51529",
   "outputs": [],
   "execution_count": 5
  },
  {
   "cell_type": "markdown",
   "id": "7569f697-4c07-4eab-a85b-fb9fc4ba48f2",
   "metadata": {},
   "source": [
    "## Anthropic HH-RLHF"
   ]
  },
  {
   "cell_type": "code",
   "id": "7f2159e8-023d-4b82-b621-af5cc917d1e4",
   "metadata": {
    "ExecuteTime": {
     "end_time": "2024-06-22T04:10:45.878780Z",
     "start_time": "2024-06-22T04:10:44.434923Z"
    }
   },
   "source": [
    "anthropic_train_helpful = pd.read_json(\"../data/raw/anthropic/helpful_base/train.jsonl\", lines=True)\n",
    "anthropic_test_helpful = pd.read_json(\"../data/raw/anthropic/helpful_base/test.jsonl\", lines=True)\n",
    "\n",
    "anthropic_train_helpful_online = pd.read_json(\"../data/raw/anthropic/helpful_online/train.jsonl\", lines=True)\n",
    "anthropic_test_helpful_online = pd.read_json(\"../data/raw/anthropic/helpful_online/test.jsonl\", lines=True)"
   ],
   "outputs": [],
   "execution_count": 6
  },
  {
   "metadata": {
    "ExecuteTime": {
     "end_time": "2024-06-22T04:10:45.972618Z",
     "start_time": "2024-06-22T04:10:45.879304Z"
    }
   },
   "cell_type": "code",
   "source": [
    "anthropic_df = pd.concat([anthropic_train_helpful, anthropic_test_helpful, anthropic_train_helpful_online, anthropic_test_helpful_online]).reset_index(drop=True)\n",
    "anthropic_df[\"chosen\"] = anthropic_df[\"chosen\"].apply(lambda x: \" \".join(x.split(\"\\n\\n\")[1].split()[1:]))\n",
    "anthropic_df = anthropic_df.drop_duplicates(subset=[\"chosen\"]).reset_index(drop=True)"
   ],
   "id": "cbd354113297169d",
   "outputs": [],
   "execution_count": 7
  },
  {
   "metadata": {
    "ExecuteTime": {
     "end_time": "2024-06-22T04:10:45.974989Z",
     "start_time": "2024-06-22T04:10:45.973231Z"
    }
   },
   "cell_type": "code",
   "source": "anthropic_normal_prompts = anthropic_df[\"chosen\"].tolist()",
   "id": "8cc7ee2afd2921c3",
   "outputs": [],
   "execution_count": 8
  },
  {
   "metadata": {
    "ExecuteTime": {
     "end_time": "2024-06-22T04:10:46.773230Z",
     "start_time": "2024-06-22T04:10:45.975456Z"
    }
   },
   "cell_type": "code",
   "source": [
    "normal_prompts = pd.DataFrame({\"prompt\": jigsaw_normal_prompts + anthropic_normal_prompts, \"category\": [\"jigsaw\"] * len(jigsaw_normal_prompts) + [\"anthropic\"] * len(anthropic_normal_prompts)})\n",
    "normal_prompts = normal_prompts.sample(frac=1).reset_index(drop=True)\n",
    "normal_prompts.to_csv(\"../data/processed/normal_prompts.csv\", index=False)"
   ],
   "id": "61a46a1ca5afe3a9",
   "outputs": [],
   "execution_count": 9
  },
  {
   "metadata": {
    "ExecuteTime": {
     "end_time": "2024-06-22T04:10:46.778799Z",
     "start_time": "2024-06-22T04:10:46.773816Z"
    }
   },
   "cell_type": "code",
   "source": "normal_prompts",
   "id": "bf4419ee70cf9246",
   "outputs": [
    {
     "data": {
      "text/plain": [
       "                                                   prompt   category\n",
       "0       Impact damage I removed this section due to it...     jigsaw\n",
       "1       \"  It's not really an abbreviation in the sens...     jigsaw\n",
       "2       \" I'm holding off from making any edits to the...     jigsaw\n",
       "3       What does this article say about quarterbacks ...  anthropic\n",
       "4       No I did not write what you said there, and I ...     jigsaw\n",
       "...                                                   ...        ...\n",
       "226021  I agree with Dan's idea about the web links. I...     jigsaw\n",
       "226022  \" Yes, the Australians got there first. It mus...     jigsaw\n",
       "226023                     How do I audition for a movie?  anthropic\n",
       "226024   }} {{WikiProject Education in the United Kingdom     jigsaw\n",
       "226025  How can I help my friend mitigate their road r...  anthropic\n",
       "\n",
       "[226026 rows x 2 columns]"
      ],
      "text/html": [
       "<div>\n",
       "<style scoped>\n",
       "    .dataframe tbody tr th:only-of-type {\n",
       "        vertical-align: middle;\n",
       "    }\n",
       "\n",
       "    .dataframe tbody tr th {\n",
       "        vertical-align: top;\n",
       "    }\n",
       "\n",
       "    .dataframe thead th {\n",
       "        text-align: right;\n",
       "    }\n",
       "</style>\n",
       "<table border=\"1\" class=\"dataframe\">\n",
       "  <thead>\n",
       "    <tr style=\"text-align: right;\">\n",
       "      <th></th>\n",
       "      <th>prompt</th>\n",
       "      <th>category</th>\n",
       "    </tr>\n",
       "  </thead>\n",
       "  <tbody>\n",
       "    <tr>\n",
       "      <th>0</th>\n",
       "      <td>Impact damage I removed this section due to it...</td>\n",
       "      <td>jigsaw</td>\n",
       "    </tr>\n",
       "    <tr>\n",
       "      <th>1</th>\n",
       "      <td>\"  It's not really an abbreviation in the sens...</td>\n",
       "      <td>jigsaw</td>\n",
       "    </tr>\n",
       "    <tr>\n",
       "      <th>2</th>\n",
       "      <td>\" I'm holding off from making any edits to the...</td>\n",
       "      <td>jigsaw</td>\n",
       "    </tr>\n",
       "    <tr>\n",
       "      <th>3</th>\n",
       "      <td>What does this article say about quarterbacks ...</td>\n",
       "      <td>anthropic</td>\n",
       "    </tr>\n",
       "    <tr>\n",
       "      <th>4</th>\n",
       "      <td>No I did not write what you said there, and I ...</td>\n",
       "      <td>jigsaw</td>\n",
       "    </tr>\n",
       "    <tr>\n",
       "      <th>...</th>\n",
       "      <td>...</td>\n",
       "      <td>...</td>\n",
       "    </tr>\n",
       "    <tr>\n",
       "      <th>226021</th>\n",
       "      <td>I agree with Dan's idea about the web links. I...</td>\n",
       "      <td>jigsaw</td>\n",
       "    </tr>\n",
       "    <tr>\n",
       "      <th>226022</th>\n",
       "      <td>\" Yes, the Australians got there first. It mus...</td>\n",
       "      <td>jigsaw</td>\n",
       "    </tr>\n",
       "    <tr>\n",
       "      <th>226023</th>\n",
       "      <td>How do I audition for a movie?</td>\n",
       "      <td>anthropic</td>\n",
       "    </tr>\n",
       "    <tr>\n",
       "      <th>226024</th>\n",
       "      <td>}} {{WikiProject Education in the United Kingdom</td>\n",
       "      <td>jigsaw</td>\n",
       "    </tr>\n",
       "    <tr>\n",
       "      <th>226025</th>\n",
       "      <td>How can I help my friend mitigate their road r...</td>\n",
       "      <td>anthropic</td>\n",
       "    </tr>\n",
       "  </tbody>\n",
       "</table>\n",
       "<p>226026 rows × 2 columns</p>\n",
       "</div>"
      ]
     },
     "execution_count": 10,
     "metadata": {},
     "output_type": "execute_result"
    }
   ],
   "execution_count": 10
  }
 ],
 "metadata": {
  "kernelspec": {
   "display_name": "Python [conda env:pure]",
   "language": "python",
   "name": "conda-env-pure-py"
  },
  "language_info": {
   "codemirror_mode": {
    "name": "ipython",
    "version": 3
   },
   "file_extension": ".py",
   "mimetype": "text/x-python",
   "name": "python",
   "nbconvert_exporter": "python",
   "pygments_lexer": "ipython3",
   "version": "3.9.19"
  }
 },
 "nbformat": 4,
 "nbformat_minor": 5
}
