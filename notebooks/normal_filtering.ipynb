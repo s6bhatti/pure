{
 "cells": [
  {
   "metadata": {
    "ExecuteTime": {
     "end_time": "2024-06-26T00:21:18.898674Z",
     "start_time": "2024-06-26T00:21:18.562024Z"
    }
   },
   "cell_type": "code",
   "source": [
    "import json\n",
    "import ast\n",
    "\n",
    "import pandas as pd\n",
    "from dotenv import load_dotenv\n",
    "from openai import OpenAI\n",
    "from tqdm.auto import tqdm\n",
    "\n",
    "load_dotenv()\n",
    "client = OpenAI()"
   ],
   "id": "9c2b5122ebd8cb09",
   "outputs": [],
   "execution_count": 1
  },
  {
   "metadata": {
    "ExecuteTime": {
     "end_time": "2024-06-26T00:21:18.901100Z",
     "start_time": "2024-06-26T00:21:18.899527Z"
    }
   },
   "cell_type": "code",
   "source": "POLICY_PATH = \"../policies/hiring.json\"",
   "id": "98223b664e707ebf",
   "outputs": [],
   "execution_count": 2
  },
  {
   "metadata": {
    "ExecuteTime": {
     "end_time": "2024-06-26T00:21:18.903865Z",
     "start_time": "2024-06-26T00:21:18.901657Z"
    }
   },
   "cell_type": "code",
   "source": [
    "with open(POLICY_PATH, \"r\") as f:\n",
    "    policy = json.load(f)"
   ],
   "id": "8950598052f48586",
   "outputs": [],
   "execution_count": 3
  },
  {
   "metadata": {
    "ExecuteTime": {
     "end_time": "2024-06-26T00:21:18.906354Z",
     "start_time": "2024-06-26T00:21:18.904698Z"
    }
   },
   "cell_type": "code",
   "source": [
    "policy[\"violation_prompts\"] = \"\\n\".join([f\"{i+1}. {prompt}\" for i, prompt in enumerate(policy[\"violation_prompts\"])])\n",
    "policy[\"edge_case_prompts\"] = \"\\n\".join([f\"{i+1}. {prompt}\" for i, prompt in enumerate(policy[\"edge_case_prompts\"])])"
   ],
   "id": "d12e7f3eb4175738",
   "outputs": [],
   "execution_count": 4
  },
  {
   "metadata": {
    "ExecuteTime": {
     "end_time": "2024-06-26T00:21:19.477441Z",
     "start_time": "2024-06-26T00:21:18.906840Z"
    }
   },
   "cell_type": "code",
   "source": [
    "normal_prompts_df = pd.read_csv(\"../data/processed/normal_prompts.csv\")\n",
    "normal_prompts_df = normal_prompts_df.sample(frac=1).reset_index(drop=True)"
   ],
   "id": "77ec4db33cf63d19",
   "outputs": [],
   "execution_count": 5
  },
  {
   "metadata": {
    "ExecuteTime": {
     "end_time": "2024-06-26T00:21:19.499938Z",
     "start_time": "2024-06-26T00:21:19.478146Z"
    }
   },
   "cell_type": "code",
   "source": [
    "jigsaw_normal_prompts = normal_prompts_df[normal_prompts_df[\"category\"] == \"jigsaw\"][\"prompt\"].tolist()\n",
    "anthropic_normal_prompts = normal_prompts_df[normal_prompts_df[\"category\"] == \"anthropic\"][\"prompt\"].tolist()"
   ],
   "id": "6734991144c26b07",
   "outputs": [],
   "execution_count": 6
  },
  {
   "cell_type": "code",
   "id": "initial_id",
   "metadata": {
    "collapsed": true,
    "ExecuteTime": {
     "end_time": "2024-06-26T00:21:19.502252Z",
     "start_time": "2024-06-26T00:21:19.500536Z"
    }
   },
   "source": [
    "system_prompt = \"\"\"You are ViolationIdentifierGPT, an AI whose purpose is to identify messages that violate a specific policy. You are provided the policy title, description, examples of violating messages, and edge case messages. Additionally, you will be given the list of messages to evaluate. Your goal is to provide the exact numbers of the messages as seen in the provided list that clearly violate the specific policy. Even if you consider a message to be unethical or unsafe, it should only be included in the list if it violates the provided policy. Remember that edge case messages define the acceptable boundaries of the policy while violating messages are clear breaches. Respond using the following format without any additional text (if no messages violate the policy, respond with an empty list []):\n",
    "\n",
    "[Index1, Index2, Index3, ...]\n",
    "\"\"\"\n",
    "\n",
    "user_message = \"\"\"Policy Title: {title}\n",
    "\n",
    "Policy Description: {description}\n",
    "\n",
    "Examples of Messages that Violate the Policy:\n",
    "{violation_prompts}\n",
    "\n",
    "Examples of Acceptable Edge Case Messages:\n",
    "{edge_case_prompts}\n",
    "\n",
    "Messages to Evaluate:\"\"\".format(**policy)"
   ],
   "outputs": [],
   "execution_count": 7
  },
  {
   "metadata": {
    "ExecuteTime": {
     "end_time": "2024-06-26T00:24:00.275131Z",
     "start_time": "2024-06-26T00:21:19.502767Z"
    }
   },
   "cell_type": "code",
   "source": [
    "N = policy[\"sdg_parameters\"][\"jigsaw_count\"]\n",
    "pbar = tqdm(total=N)\n",
    "\n",
    "filtered_jigsaw_prompts = []\n",
    "rejected_jigsaw_prompts = []\n",
    "\n",
    "jigsaw_count = 0\n",
    "\n",
    "with pbar:\n",
    "    while len(filtered_jigsaw_prompts) < N:\n",
    "        jigsaw_batch = jigsaw_normal_prompts[jigsaw_count:jigsaw_count + 10]\n",
    "        \n",
    "        response = client.chat.completions.create(\n",
    "            model=\"gpt-4o\",\n",
    "            messages=[\n",
    "                {\n",
    "                    \"role\": \"system\",\n",
    "                    \"content\": [\n",
    "                        {\n",
    "                            \"type\": \"text\",\n",
    "                            \"text\": system_prompt\n",
    "                        }\n",
    "                    ]\n",
    "                },\n",
    "                {\n",
    "                    \"role\": \"user\",\n",
    "                    \"content\": [\n",
    "                        {\n",
    "                            \"type\": \"text\",\n",
    "                            \"text\": user_message + \"\\n\" + \"\\n\".join([f\"{i+1}. {prompt}\" for i, prompt in enumerate(jigsaw_batch)])\n",
    "                        }\n",
    "                    ]\n",
    "                }\n",
    "            ],\n",
    "            temperature=0.6,\n",
    "            max_tokens=100,\n",
    "            top_p=1,\n",
    "            frequency_penalty=0,\n",
    "            presence_penalty=0\n",
    "        )\n",
    "        \n",
    "        indexes = [i - 1 for i in ast.literal_eval(response.choices[0].message.content)]\n",
    "        \n",
    "        rejected_jigsaw_prompts += [prompt for i, prompt in enumerate(jigsaw_batch) if i in indexes]\n",
    "        jigsaw_batch = [prompt for i, prompt in enumerate(jigsaw_batch) if i not in indexes]\n",
    "        filtered_jigsaw_prompts += jigsaw_batch\n",
    "        \n",
    "        jigsaw_count += 10\n",
    "        pbar.update(len(jigsaw_batch))\n",
    "        \n",
    "filtered_jigsaw_prompts = filtered_jigsaw_prompts[:N]"
   ],
   "id": "7b630d3d175479",
   "outputs": [
    {
     "data": {
      "text/plain": [
       "  0%|          | 0/4000 [00:00<?, ?it/s]"
      ],
      "application/vnd.jupyter.widget-view+json": {
       "version_major": 2,
       "version_minor": 0,
       "model_id": "2ed2a061cf664f15960b9f268286fe95"
      }
     },
     "metadata": {},
     "output_type": "display_data"
    }
   ],
   "execution_count": 8
  },
  {
   "metadata": {
    "ExecuteTime": {
     "end_time": "2024-06-26T00:26:24.282121Z",
     "start_time": "2024-06-26T00:24:00.275746Z"
    }
   },
   "cell_type": "code",
   "source": [
    "N = policy[\"sdg_parameters\"][\"anthropic_count\"]\n",
    "pbar = tqdm(total=N)\n",
    "\n",
    "filtered_anthropic_prompts = []\n",
    "rejected_anthropic_prompts = []\n",
    "\n",
    "anthropic_count = 0\n",
    "\n",
    "with pbar:\n",
    "    while len(filtered_anthropic_prompts) < N:\n",
    "        anthropic_batch = anthropic_normal_prompts[anthropic_count:anthropic_count + 10]\n",
    "        cleaned_anthropic_batch = [prompt.replace(\"\\n\", \"\") for prompt in anthropic_batch]\n",
    "        \n",
    "        response = client.chat.completions.create(\n",
    "            model=\"gpt-4o\",\n",
    "            messages=[\n",
    "                {\n",
    "                    \"role\": \"system\",\n",
    "                    \"content\": [\n",
    "                        {\n",
    "                            \"type\": \"text\",\n",
    "                            \"text\": system_prompt\n",
    "                        }\n",
    "                    ]\n",
    "                },\n",
    "                {\n",
    "                    \"role\": \"user\",\n",
    "                    \"content\": [\n",
    "                        {\n",
    "                            \"type\": \"text\",\n",
    "                            \"text\": user_message + \"\\n\" + \"\\n\".join([f\"{i+1}. {prompt}\" for i, prompt in enumerate(cleaned_anthropic_batch)])\n",
    "                        }\n",
    "                    ]\n",
    "                }\n",
    "            ],\n",
    "            temperature=0.6,\n",
    "            max_tokens=100,\n",
    "            top_p=1,\n",
    "            frequency_penalty=0,\n",
    "            presence_penalty=0\n",
    "        )\n",
    "        \n",
    "        indexes = [i - 1 for i in ast.literal_eval(response.choices[0].message.content)]\n",
    "        \n",
    "        rejected_anthropic_prompts += [prompt for i, prompt in enumerate(anthropic_batch) if i in indexes]\n",
    "        anthropic_batch = [prompt for i, prompt in enumerate(anthropic_batch) if i not in indexes]\n",
    "        filtered_anthropic_prompts += anthropic_batch\n",
    "        \n",
    "        anthropic_count += 10\n",
    "        pbar.update(len(anthropic_batch))\n",
    "        \n",
    "filtered_anthropic_prompts = filtered_anthropic_prompts[:N]"
   ],
   "id": "4562737a06a32609",
   "outputs": [
    {
     "data": {
      "text/plain": [
       "  0%|          | 0/4000 [00:00<?, ?it/s]"
      ],
      "application/vnd.jupyter.widget-view+json": {
       "version_major": 2,
       "version_minor": 0,
       "model_id": "1fae5104beb54e2bbf3b2a746d154f69"
      }
     },
     "metadata": {},
     "output_type": "display_data"
    }
   ],
   "execution_count": 9
  },
  {
   "metadata": {
    "ExecuteTime": {
     "end_time": "2024-06-26T00:26:24.307829Z",
     "start_time": "2024-06-26T00:26:24.283089Z"
    }
   },
   "cell_type": "code",
   "source": [
    "filtered_normal_prompts = pd.DataFrame({\"prompt\": filtered_jigsaw_prompts + filtered_anthropic_prompts, \"category\": [\"jigsaw\"] * len(filtered_jigsaw_prompts) + [\"anthropic\"] * len(filtered_anthropic_prompts)})\n",
    "filtered_normal_prompts = filtered_normal_prompts.sample(frac=1).reset_index(drop=True)\n",
    "filtered_normal_prompts.to_csv(\"../data/processed/filtered_normal_prompts.csv\", index=False)"
   ],
   "id": "77c1fc12adf9ee87",
   "outputs": [],
   "execution_count": 10
  }
 ],
 "metadata": {
  "kernelspec": {
   "display_name": "Python [conda env:pure]",
   "language": "python",
   "name": "conda-env-pure-py"
  },
  "language_info": {
   "codemirror_mode": {
    "name": "ipython",
    "version": 2
   },
   "file_extension": ".py",
   "mimetype": "text/x-python",
   "name": "python",
   "nbconvert_exporter": "python",
   "pygments_lexer": "ipython2",
   "version": "2.7.6"
  }
 },
 "nbformat": 4,
 "nbformat_minor": 5
}
