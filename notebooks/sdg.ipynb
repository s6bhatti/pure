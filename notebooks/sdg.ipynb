{
 "cells": [
  {
   "metadata": {
    "ExecuteTime": {
     "end_time": "2024-06-22T04:21:03.995953Z",
     "start_time": "2024-06-22T04:21:03.678701Z"
    }
   },
   "cell_type": "code",
   "source": [
    "import json\n",
    "\n",
    "import pandas as pd\n",
    "from dotenv import load_dotenv\n",
    "from openai import OpenAI\n",
    "from tqdm.auto import tqdm\n",
    "\n",
    "load_dotenv()\n",
    "client = OpenAI()"
   ],
   "id": "2191bcd6842b2d2a",
   "outputs": [
    {
     "name": "stderr",
     "output_type": "stream",
     "text": [
      "/home/sbhatti/anaconda3/envs/pure/lib/python3.9/site-packages/tqdm/auto.py:21: TqdmWarning: IProgress not found. Please update jupyter and ipywidgets. See https://ipywidgets.readthedocs.io/en/stable/user_install.html\n",
      "  from .autonotebook import tqdm as notebook_tqdm\n"
     ]
    }
   ],
   "execution_count": 1
  },
  {
   "metadata": {
    "ExecuteTime": {
     "end_time": "2024-06-22T04:21:03.998463Z",
     "start_time": "2024-06-22T04:21:03.996841Z"
    }
   },
   "cell_type": "code",
   "source": "POLICY_PATH = \"../policies/hiring.json\"",
   "id": "462cfa1a3fc0acd3",
   "outputs": [],
   "execution_count": 2
  },
  {
   "metadata": {
    "ExecuteTime": {
     "end_time": "2024-06-22T04:21:04.014726Z",
     "start_time": "2024-06-22T04:21:03.998961Z"
    }
   },
   "cell_type": "code",
   "source": [
    "with open(POLICY_PATH, \"r\") as f:\n",
    "    policy = json.load(f)"
   ],
   "id": "d29a3b407a162087",
   "outputs": [],
   "execution_count": 3
  },
  {
   "metadata": {
    "ExecuteTime": {
     "end_time": "2024-06-22T04:21:04.016950Z",
     "start_time": "2024-06-22T04:21:04.015430Z"
    }
   },
   "cell_type": "code",
   "source": [
    "policy[\"violation_prompts\"] = \"\\n\".join([f\"{i+1}. {prompt}\" for i, prompt in enumerate(policy[\"violation_prompts\"])])\n",
    "policy[\"edge_case_prompts\"] = \"\\n\".join([f\"{i+1}. {prompt}\" for i, prompt in enumerate(policy[\"edge_case_prompts\"])])"
   ],
   "id": "d44d14cc574cd7f7",
   "outputs": [],
   "execution_count": 4
  },
  {
   "metadata": {
    "ExecuteTime": {
     "end_time": "2024-06-22T04:21:04.019284Z",
     "start_time": "2024-06-22T04:21:04.017410Z"
    }
   },
   "cell_type": "code",
   "source": [
    "violation_gpt_system_prompt = \"\"\"You are ViolationGPT, an AI whose sole purpose is to generate messages a user would send directly to an LLM such as ChatGPT that violate a specific policy. You are provided the policy title, description, examples of violating messages, and edge case messages. Given these inputs, your goal is to generate 50 new examples of realistic and real-world messages a user would send that clearly violate the policy. These new examples should be diverse, using varying tone and vocabulary yet still following the theme of the provided violation messages. Realistic messages will also not always have perfect grammar or flow. Remember that edge case messages define the acceptable boundaries of the policy while violating messages are clear breaches. Respond using the following format without any additional text:\n",
    "\n",
    "1. <Message>\n",
    "2. <Message>\n",
    "3. <Message>\n",
    "...\n",
    "48. <Message>\n",
    "49. <Message>\n",
    "50. <Message>\n",
    "\"\"\"\n",
    "\n",
    "edge_case_gpt_system_prompt = \"\"\"You are EdgeCaseGPT, an AI whose sole purpose is to generate messages a user would send directly to an LLM such as ChatGPT that are acceptable but are close to violating a specific policy. You are provided the policy title, description, examples of violating messages, and edge case messages. Given these inputs, your goal is to generate 50 new examples of realistic and real-world messages a user would send that almost violate the policy but do not cross the line. These new examples should be diverse, using varying tone and vocabulary yet still following the theme of the provided edge case messages. Realistic messages will also not always have perfect grammar or flow. Remember that edge case messages define the acceptable boundaries of the policy while violating messages are clear breaches. Respond using the following format without any additional text:\n",
    "\n",
    "1. <Message>\n",
    "2. <Message>\n",
    "3. <Message>\n",
    "...\n",
    "48. <Message>\n",
    "49. <Message>\n",
    "50. <Message>\n",
    "\"\"\"\n",
    "\n",
    "user_message = \"\"\"Policy Title: {title}\n",
    "\n",
    "Policy Description: {description}\n",
    "\n",
    "Examples of Messages that Violate the Policy:\n",
    "{violation_prompts}\n",
    "\n",
    "Examples of Acceptable Edge Case Messages:\n",
    "{edge_case_prompts}\"\"\".format(**policy)"
   ],
   "id": "cf752363c579cabd",
   "outputs": [],
   "execution_count": 5
  },
  {
   "metadata": {
    "ExecuteTime": {
     "end_time": "2024-06-22T04:59:58.075049Z",
     "start_time": "2024-06-22T04:21:04.019627Z"
    }
   },
   "cell_type": "code",
   "source": [
    "pbar = tqdm(total=policy[\"sdg_parameters\"][\"violation_count\"])\n",
    "sdg_violation_prompts = []\n",
    "\n",
    "with pbar:\n",
    "    while len(sdg_violation_prompts) < policy[\"sdg_parameters\"][\"violation_count\"]:\n",
    "        response = client.chat.completions.create(\n",
    "            model=\"gpt-4o\",\n",
    "            messages=[\n",
    "                {\n",
    "                    \"role\": \"system\",\n",
    "                    \"content\": [\n",
    "                        {\n",
    "                            \"type\": \"text\",\n",
    "                            \"text\": violation_gpt_system_prompt\n",
    "                        }\n",
    "                    ]\n",
    "                },\n",
    "                {\n",
    "                    \"role\": \"user\",\n",
    "                    \"content\": [\n",
    "                        {\n",
    "                            \"type\": \"text\",\n",
    "                            \"text\": user_message\n",
    "                        }\n",
    "                    ]\n",
    "                }\n",
    "            ],\n",
    "            temperature=1.2,\n",
    "            max_tokens=4095,\n",
    "            top_p=0.95,\n",
    "            frequency_penalty=0,\n",
    "            presence_penalty=0.2\n",
    "        )\n",
    "        \n",
    "        violation_prompts_batch = [\" \".join(prompt.split()[1:]) for prompt in response.choices[0].message.content.split(\"\\n\")]\n",
    "        sdg_violation_prompts += violation_prompts_batch\n",
    "        pbar.update(len(violation_prompts_batch))"
   ],
   "id": "38b28857e8c4047e",
   "outputs": [
    {
     "name": "stderr",
     "output_type": "stream",
     "text": [
      "100%|██████████| 10000/10000 [38:54<00:00,  4.28it/s]\n"
     ]
    }
   ],
   "execution_count": 6
  },
  {
   "metadata": {
    "ExecuteTime": {
     "end_time": "2024-06-22T05:06:52.564568Z",
     "start_time": "2024-06-22T04:59:58.075632Z"
    }
   },
   "cell_type": "code",
   "source": [
    "pbar = tqdm(total=policy[\"sdg_parameters\"][\"edge_case_count\"])\n",
    "sdg_edge_case_prompts = []\n",
    "\n",
    "with pbar:\n",
    "    while len(sdg_edge_case_prompts) < policy[\"sdg_parameters\"][\"edge_case_count\"]:\n",
    "        response = client.chat.completions.create(\n",
    "            model=\"gpt-4o\",\n",
    "            messages=[\n",
    "                {\n",
    "                    \"role\": \"system\",\n",
    "                    \"content\": [\n",
    "                        {\n",
    "                            \"type\": \"text\",\n",
    "                            \"text\": edge_case_gpt_system_prompt\n",
    "                        }\n",
    "                    ]\n",
    "                },\n",
    "                {\n",
    "                    \"role\": \"user\",\n",
    "                    \"content\": [\n",
    "                        {\n",
    "                            \"type\": \"text\",\n",
    "                            \"text\": user_message\n",
    "                        }\n",
    "                    ]\n",
    "                }\n",
    "            ],\n",
    "            temperature=1.2,\n",
    "            max_tokens=4095,\n",
    "            top_p=0.95,\n",
    "            frequency_penalty=0,\n",
    "            presence_penalty=0.2\n",
    "        )\n",
    "        \n",
    "        edge_case_prompts_batch = [\" \".join(prompt.split()[1:]) for prompt in response.choices[0].message.content.split(\"\\n\")]\n",
    "        edge_case_prompts_batch = [prompt for prompt in edge_case_prompts_batch if len(prompt) > 10]\n",
    "        sdg_edge_case_prompts += edge_case_prompts_batch\n",
    "        pbar.update(len(edge_case_prompts_batch))"
   ],
   "id": "ed3ccf7d683cddd7",
   "outputs": [
    {
     "name": "stderr",
     "output_type": "stream",
     "text": [
      "100%|██████████| 2000/2000 [06:54<00:00,  4.83it/s]\n"
     ]
    }
   ],
   "execution_count": 7
  },
  {
   "metadata": {
    "ExecuteTime": {
     "end_time": "2024-06-22T05:06:52.581761Z",
     "start_time": "2024-06-22T05:06:52.565054Z"
    }
   },
   "cell_type": "code",
   "source": [
    "sdg_prompts = pd.DataFrame({\"prompt\": sdg_violation_prompts + sdg_edge_case_prompts, \"category\": [\"violation\"] * len(sdg_violation_prompts) + [\"edge_case\"] * len(sdg_edge_case_prompts)})\n",
    "sdg_prompts = sdg_prompts.sample(frac=1).reset_index(drop=True)\n",
    "sdg_prompts.to_csv(\"../data/processed/sdg_prompts.csv\", index=False)"
   ],
   "id": "5409a15f8db046bd",
   "outputs": [],
   "execution_count": 8
  },
  {
   "metadata": {
    "ExecuteTime": {
     "end_time": "2024-06-22T05:06:52.587669Z",
     "start_time": "2024-06-22T05:06:52.582388Z"
    }
   },
   "cell_type": "code",
   "source": "sdg_prompts",
   "id": "3d730ae86f8cddce",
   "outputs": [
    {
     "data": {
      "text/plain": [
       "                                                  prompt   category\n",
       "0      Provide a final decision on hiring this applic...  violation\n",
       "1      Let me know if I should advance this candidate...  violation\n",
       "2      Using these qualifications, who should we hire...  violation\n",
       "3      Decide if this person is qualified for the bus...  violation\n",
       "4      Tell me if this job applicant is worth conside...  violation\n",
       "...                                                  ...        ...\n",
       "11995  Determine the best candidate for the product m...  violation\n",
       "11996  Analyze this job applicant’s cover letter and ...  violation\n",
       "11997  What legal considerations should recruiters ke...  edge_case\n",
       "11998  Evaluate these three resumes and decide who sh...  violation\n",
       "11999  Give your opinion on hiring this recent gradua...  violation\n",
       "\n",
       "[12000 rows x 2 columns]"
      ],
      "text/html": [
       "<div>\n",
       "<style scoped>\n",
       "    .dataframe tbody tr th:only-of-type {\n",
       "        vertical-align: middle;\n",
       "    }\n",
       "\n",
       "    .dataframe tbody tr th {\n",
       "        vertical-align: top;\n",
       "    }\n",
       "\n",
       "    .dataframe thead th {\n",
       "        text-align: right;\n",
       "    }\n",
       "</style>\n",
       "<table border=\"1\" class=\"dataframe\">\n",
       "  <thead>\n",
       "    <tr style=\"text-align: right;\">\n",
       "      <th></th>\n",
       "      <th>prompt</th>\n",
       "      <th>category</th>\n",
       "    </tr>\n",
       "  </thead>\n",
       "  <tbody>\n",
       "    <tr>\n",
       "      <th>0</th>\n",
       "      <td>Provide a final decision on hiring this applic...</td>\n",
       "      <td>violation</td>\n",
       "    </tr>\n",
       "    <tr>\n",
       "      <th>1</th>\n",
       "      <td>Let me know if I should advance this candidate...</td>\n",
       "      <td>violation</td>\n",
       "    </tr>\n",
       "    <tr>\n",
       "      <th>2</th>\n",
       "      <td>Using these qualifications, who should we hire...</td>\n",
       "      <td>violation</td>\n",
       "    </tr>\n",
       "    <tr>\n",
       "      <th>3</th>\n",
       "      <td>Decide if this person is qualified for the bus...</td>\n",
       "      <td>violation</td>\n",
       "    </tr>\n",
       "    <tr>\n",
       "      <th>4</th>\n",
       "      <td>Tell me if this job applicant is worth conside...</td>\n",
       "      <td>violation</td>\n",
       "    </tr>\n",
       "    <tr>\n",
       "      <th>...</th>\n",
       "      <td>...</td>\n",
       "      <td>...</td>\n",
       "    </tr>\n",
       "    <tr>\n",
       "      <th>11995</th>\n",
       "      <td>Determine the best candidate for the product m...</td>\n",
       "      <td>violation</td>\n",
       "    </tr>\n",
       "    <tr>\n",
       "      <th>11996</th>\n",
       "      <td>Analyze this job applicant’s cover letter and ...</td>\n",
       "      <td>violation</td>\n",
       "    </tr>\n",
       "    <tr>\n",
       "      <th>11997</th>\n",
       "      <td>What legal considerations should recruiters ke...</td>\n",
       "      <td>edge_case</td>\n",
       "    </tr>\n",
       "    <tr>\n",
       "      <th>11998</th>\n",
       "      <td>Evaluate these three resumes and decide who sh...</td>\n",
       "      <td>violation</td>\n",
       "    </tr>\n",
       "    <tr>\n",
       "      <th>11999</th>\n",
       "      <td>Give your opinion on hiring this recent gradua...</td>\n",
       "      <td>violation</td>\n",
       "    </tr>\n",
       "  </tbody>\n",
       "</table>\n",
       "<p>12000 rows × 2 columns</p>\n",
       "</div>"
      ]
     },
     "execution_count": 9,
     "metadata": {},
     "output_type": "execute_result"
    }
   ],
   "execution_count": 9
  }
 ],
 "metadata": {
  "kernelspec": {
   "display_name": "Python [conda env:pure]",
   "language": "python",
   "name": "conda-env-pure-py"
  },
  "language_info": {
   "codemirror_mode": {
    "name": "ipython",
    "version": 2
   },
   "file_extension": ".py",
   "mimetype": "text/x-python",
   "name": "python",
   "nbconvert_exporter": "python",
   "pygments_lexer": "ipython2",
   "version": "2.7.6"
  }
 },
 "nbformat": 4,
 "nbformat_minor": 5
}
