{
 "cells": [
  {
   "cell_type": "code",
   "id": "initial_id",
   "metadata": {
    "collapsed": true,
    "ExecuteTime": {
     "end_time": "2024-06-26T06:52:11.670031Z",
     "start_time": "2024-06-26T06:52:09.383077Z"
    }
   },
   "source": [
    "import numpy as np\n",
    "import pandas as pd\n",
    "import torch\n",
    "import wandb\n",
    "\n",
    "from torch.nn import BCEWithLogitsLoss\n",
    "from torch.utils.data import DataLoader\n",
    "from torch.optim import AdamW\n",
    "from datasets import Dataset\n",
    "from transformers import AutoModelForSequenceClassification, AutoTokenizer, get_linear_schedule_with_warmup\n",
    "from sklearn.metrics import roc_auc_score\n",
    "from tqdm.auto import tqdm\n",
    "\n",
    "torch.set_printoptions(sci_mode=False)"
   ],
   "outputs": [],
   "execution_count": 1
  },
  {
   "metadata": {
    "ExecuteTime": {
     "end_time": "2024-06-26T06:52:11.693166Z",
     "start_time": "2024-06-26T06:52:11.670970Z"
    }
   },
   "cell_type": "code",
   "source": [
    "train_df = pd.read_csv(\"../data/processed/dataset.csv\", index_col=None)\n",
    "test_df = pd.read_csv(\"../data/raw/hiring/test.csv\", index_col=None)"
   ],
   "id": "a37fd12c4de00f83",
   "outputs": [],
   "execution_count": 2
  },
  {
   "metadata": {
    "ExecuteTime": {
     "end_time": "2024-06-26T06:52:11.713888Z",
     "start_time": "2024-06-26T06:52:11.693709Z"
    }
   },
   "cell_type": "code",
   "source": [
    "train_dataset = Dataset.from_pandas(train_df)\n",
    "test_dataset = Dataset.from_pandas(test_df)"
   ],
   "id": "3d3bfdebf8630b74",
   "outputs": [],
   "execution_count": 3
  },
  {
   "metadata": {
    "ExecuteTime": {
     "end_time": "2024-06-26T06:52:11.848500Z",
     "start_time": "2024-06-26T06:52:11.714851Z"
    }
   },
   "cell_type": "code",
   "source": "tokenizer = AutoTokenizer.from_pretrained(\"distilbert/distilbert-base-cased\")",
   "id": "954b54d71995029",
   "outputs": [],
   "execution_count": 4
  },
  {
   "metadata": {
    "ExecuteTime": {
     "end_time": "2024-06-26T06:52:11.851439Z",
     "start_time": "2024-06-26T06:52:11.849096Z"
    }
   },
   "cell_type": "code",
   "source": [
    "def tokenize(example):\n",
    "    return tokenizer(example[\"prompt\"], padding=\"max_length\", truncation=True, max_length=512)\n",
    "\n",
    "def tokenize_dataset(dataset):\n",
    "    dataset_tokenized = dataset.map(tokenize, batched=True)\n",
    "    dataset_tokenized = dataset_tokenized.remove_columns([\"prompt\", \"category\"])\n",
    "    dataset_tokenized = dataset_tokenized.rename_column(\"violates_policy\", \"labels\")\n",
    "    dataset_tokenized.set_format(\"torch\")\n",
    "    return dataset_tokenized"
   ],
   "id": "86cbf5e15afef78f",
   "outputs": [],
   "execution_count": 5
  },
  {
   "metadata": {
    "ExecuteTime": {
     "end_time": "2024-06-26T06:52:13.355679Z",
     "start_time": "2024-06-26T06:52:11.852007Z"
    }
   },
   "cell_type": "code",
   "source": [
    "train_tokenized = tokenize_dataset(train_dataset)\n",
    "test_tokenized = tokenize_dataset(test_dataset)"
   ],
   "id": "a08926b09ba69d4b",
   "outputs": [
    {
     "data": {
      "text/plain": [
       "Map:   0%|          | 0/20000 [00:00<?, ? examples/s]"
      ],
      "application/vnd.jupyter.widget-view+json": {
       "version_major": 2,
       "version_minor": 0,
       "model_id": "2437ad5938d84ec4a0c98b1e5266a92f"
      }
     },
     "metadata": {},
     "output_type": "display_data"
    },
    {
     "data": {
      "text/plain": [
       "Map:   0%|          | 0/100 [00:00<?, ? examples/s]"
      ],
      "application/vnd.jupyter.widget-view+json": {
       "version_major": 2,
       "version_minor": 0,
       "model_id": "4e261b2c345f41849294a794abea50b2"
      }
     },
     "metadata": {},
     "output_type": "display_data"
    }
   ],
   "execution_count": 6
  },
  {
   "metadata": {
    "ExecuteTime": {
     "end_time": "2024-06-26T06:52:13.887084Z",
     "start_time": "2024-06-26T06:52:13.356162Z"
    }
   },
   "cell_type": "code",
   "source": "model = AutoModelForSequenceClassification.from_pretrained(\"distilbert/distilbert-base-cased\", num_labels=1)",
   "id": "4d8047c73c258867",
   "outputs": [
    {
     "name": "stderr",
     "output_type": "stream",
     "text": [
      "Some weights of DistilBertForSequenceClassification were not initialized from the model checkpoint at distilbert/distilbert-base-cased and are newly initialized: ['classifier.bias', 'classifier.weight', 'pre_classifier.bias', 'pre_classifier.weight']\n",
      "You should probably TRAIN this model on a down-stream task to be able to use it for predictions and inference.\n"
     ]
    }
   ],
   "execution_count": 7
  },
  {
   "metadata": {
    "ExecuteTime": {
     "end_time": "2024-06-26T06:52:13.889517Z",
     "start_time": "2024-06-26T06:52:13.887695Z"
    }
   },
   "cell_type": "code",
   "source": [
    "BATCH_SIZE = 16\n",
    "LEARNING_RATE = 2e-05\n",
    "NUM_EPOCHS = 1"
   ],
   "id": "c136430b32effe1c",
   "outputs": [],
   "execution_count": 8
  },
  {
   "metadata": {
    "ExecuteTime": {
     "end_time": "2024-06-26T06:52:15.796175Z",
     "start_time": "2024-06-26T06:52:13.890014Z"
    }
   },
   "cell_type": "code",
   "source": "wandb.init(project=\"pure\")",
   "id": "c11636ec57cd8425",
   "outputs": [
    {
     "name": "stderr",
     "output_type": "stream",
     "text": [
      "Failed to detect the name of this notebook, you can set it manually with the WANDB_NOTEBOOK_NAME environment variable to enable code saving.\n",
      "huggingface/tokenizers: The current process just got forked, after parallelism has already been used. Disabling parallelism to avoid deadlocks...\n",
      "To disable this warning, you can either:\n",
      "\t- Avoid using `tokenizers` before the fork if possible\n",
      "\t- Explicitly set the environment variable TOKENIZERS_PARALLELISM=(true | false)\n",
      "\u001B[34m\u001B[1mwandb\u001B[0m: Currently logged in as: \u001B[33msbhatti\u001B[0m. Use \u001B[1m`wandb login --relogin`\u001B[0m to force relogin\n",
      "huggingface/tokenizers: The current process just got forked, after parallelism has already been used. Disabling parallelism to avoid deadlocks...\n",
      "To disable this warning, you can either:\n",
      "\t- Avoid using `tokenizers` before the fork if possible\n",
      "\t- Explicitly set the environment variable TOKENIZERS_PARALLELISM=(true | false)\n",
      "huggingface/tokenizers: The current process just got forked, after parallelism has already been used. Disabling parallelism to avoid deadlocks...\n",
      "To disable this warning, you can either:\n",
      "\t- Avoid using `tokenizers` before the fork if possible\n",
      "\t- Explicitly set the environment variable TOKENIZERS_PARALLELISM=(true | false)\n"
     ]
    },
    {
     "data": {
      "text/plain": [
       "<IPython.core.display.HTML object>"
      ],
      "text/html": [
       "wandb version 0.17.3 is available!  To upgrade, please run:\n",
       " $ pip install wandb --upgrade"
      ]
     },
     "metadata": {},
     "output_type": "display_data"
    },
    {
     "data": {
      "text/plain": [
       "<IPython.core.display.HTML object>"
      ],
      "text/html": [
       "Tracking run with wandb version 0.16.5"
      ]
     },
     "metadata": {},
     "output_type": "display_data"
    },
    {
     "data": {
      "text/plain": [
       "<IPython.core.display.HTML object>"
      ],
      "text/html": [
       "Run data is saved locally in <code>/home/sbhatti/Developer/pure/notebooks/wandb/run-20240625_235214-bpvo13fd</code>"
      ]
     },
     "metadata": {},
     "output_type": "display_data"
    },
    {
     "data": {
      "text/plain": [
       "<IPython.core.display.HTML object>"
      ],
      "text/html": [
       "Syncing run <strong><a href='https://wandb.ai/sbhatti/pure/runs/bpvo13fd/workspace' target=\"_blank\">glowing-totem-3</a></strong> to <a href='https://wandb.ai/sbhatti/pure' target=\"_blank\">Weights & Biases</a> (<a href='https://wandb.me/run' target=\"_blank\">docs</a>)<br/>"
      ]
     },
     "metadata": {},
     "output_type": "display_data"
    },
    {
     "data": {
      "text/plain": [
       "<IPython.core.display.HTML object>"
      ],
      "text/html": [
       " View project at <a href='https://wandb.ai/sbhatti/pure' target=\"_blank\">https://wandb.ai/sbhatti/pure</a>"
      ]
     },
     "metadata": {},
     "output_type": "display_data"
    },
    {
     "data": {
      "text/plain": [
       "<IPython.core.display.HTML object>"
      ],
      "text/html": [
       " View run at <a href='https://wandb.ai/sbhatti/pure/runs/bpvo13fd/workspace' target=\"_blank\">https://wandb.ai/sbhatti/pure/runs/bpvo13fd/workspace</a>"
      ]
     },
     "metadata": {},
     "output_type": "display_data"
    },
    {
     "data": {
      "text/html": [
       "<button onClick=\"this.nextSibling.style.display='block';this.style.display='none';\">Display W&B run</button><iframe src='https://wandb.ai/sbhatti/pure/runs/bpvo13fd?jupyter=true' style='border:none;width:100%;height:420px;display:none;'></iframe>"
      ],
      "text/plain": [
       "<wandb.sdk.wandb_run.Run at 0x7744243ed580>"
      ]
     },
     "execution_count": 9,
     "metadata": {},
     "output_type": "execute_result"
    }
   ],
   "execution_count": 9
  },
  {
   "metadata": {
    "ExecuteTime": {
     "end_time": "2024-06-26T06:52:15.800001Z",
     "start_time": "2024-06-26T06:52:15.797568Z"
    }
   },
   "cell_type": "code",
   "source": [
    "train_dataloader = DataLoader(train_tokenized, shuffle=True, batch_size=BATCH_SIZE)\n",
    "test_dataloader = DataLoader(test_tokenized, batch_size=BATCH_SIZE)"
   ],
   "id": "17b1e5b3c20b9327",
   "outputs": [],
   "execution_count": 10
  },
  {
   "metadata": {
    "ExecuteTime": {
     "end_time": "2024-06-26T06:52:16.132590Z",
     "start_time": "2024-06-26T06:52:15.800471Z"
    }
   },
   "cell_type": "code",
   "source": [
    "optimizer = AdamW(model.parameters(), lr=LEARNING_RATE)\n",
    "loss_fn = BCEWithLogitsLoss()"
   ],
   "id": "6523fead7cd0f0dd",
   "outputs": [],
   "execution_count": 11
  },
  {
   "metadata": {
    "ExecuteTime": {
     "end_time": "2024-06-26T06:52:16.223358Z",
     "start_time": "2024-06-26T06:52:16.133172Z"
    }
   },
   "cell_type": "code",
   "source": [
    "device = torch.device(\"cuda\") if torch.cuda.is_available() else torch.device(\"cpu\")\n",
    "model.to(device)"
   ],
   "id": "f339f804b510fa5d",
   "outputs": [
    {
     "data": {
      "text/plain": [
       "DistilBertForSequenceClassification(\n",
       "  (distilbert): DistilBertModel(\n",
       "    (embeddings): Embeddings(\n",
       "      (word_embeddings): Embedding(28996, 768, padding_idx=0)\n",
       "      (position_embeddings): Embedding(512, 768)\n",
       "      (LayerNorm): LayerNorm((768,), eps=1e-12, elementwise_affine=True)\n",
       "      (dropout): Dropout(p=0.1, inplace=False)\n",
       "    )\n",
       "    (transformer): Transformer(\n",
       "      (layer): ModuleList(\n",
       "        (0-5): 6 x TransformerBlock(\n",
       "          (attention): MultiHeadSelfAttention(\n",
       "            (dropout): Dropout(p=0.1, inplace=False)\n",
       "            (q_lin): Linear(in_features=768, out_features=768, bias=True)\n",
       "            (k_lin): Linear(in_features=768, out_features=768, bias=True)\n",
       "            (v_lin): Linear(in_features=768, out_features=768, bias=True)\n",
       "            (out_lin): Linear(in_features=768, out_features=768, bias=True)\n",
       "          )\n",
       "          (sa_layer_norm): LayerNorm((768,), eps=1e-12, elementwise_affine=True)\n",
       "          (ffn): FFN(\n",
       "            (dropout): Dropout(p=0.1, inplace=False)\n",
       "            (lin1): Linear(in_features=768, out_features=3072, bias=True)\n",
       "            (lin2): Linear(in_features=3072, out_features=768, bias=True)\n",
       "            (activation): GELUActivation()\n",
       "          )\n",
       "          (output_layer_norm): LayerNorm((768,), eps=1e-12, elementwise_affine=True)\n",
       "        )\n",
       "      )\n",
       "    )\n",
       "  )\n",
       "  (pre_classifier): Linear(in_features=768, out_features=768, bias=True)\n",
       "  (classifier): Linear(in_features=768, out_features=1, bias=True)\n",
       "  (dropout): Dropout(p=0.2, inplace=False)\n",
       ")"
      ]
     },
     "execution_count": 12,
     "metadata": {},
     "output_type": "execute_result"
    }
   ],
   "execution_count": 12
  },
  {
   "metadata": {
    "ExecuteTime": {
     "end_time": "2024-06-26T06:54:40.831516Z",
     "start_time": "2024-06-26T06:52:16.223835Z"
    }
   },
   "cell_type": "code",
   "source": [
    "pbar = tqdm(range(NUM_EPOCHS), desc=\"Epochs\")\n",
    "total_steps = 0\n",
    "\n",
    "wandb.define_metric(\"batch\")\n",
    "wandb.define_metric(\"epoch\")\n",
    "\n",
    "wandb.define_metric(\"train_loss_batch\", step_metric=\"batch\")\n",
    "wandb.define_metric(\"train_loss_epoch\", step_metric=\"epoch\")\n",
    "wandb.define_metric(\"test_loss_epoch\", step_metric=\"epoch\")\n",
    "wandb.define_metric(\"train_acc_epoch\", step_metric=\"epoch\")\n",
    "wandb.define_metric(\"test_acc_epoch\", step_metric=\"epoch\")\n",
    "wandb.define_metric(\"train_auroc_epoch\", step_metric=\"epoch\")\n",
    "wandb.define_metric(\"test_auroc_epoch\", step_metric=\"epoch\")\n",
    "\n",
    "for epoch in pbar:\n",
    "    train_epoch_losses = []\n",
    "    train_preds = []\n",
    "    train_labels = []\n",
    "    \n",
    "    model.train()\n",
    "    for batch in tqdm(train_dataloader, desc=\"Training\", leave=False):\n",
    "        batch = {k: v.to(device) for k, v in batch.items()}\n",
    "        outputs = model(**batch)\n",
    "\n",
    "        logits = outputs.logits.squeeze()\n",
    "        loss = loss_fn(logits, batch[\"labels\"].float())\n",
    "        train_epoch_losses.append(loss.item())\n",
    "\n",
    "        preds = torch.sigmoid(logits).detach().cpu().numpy()\n",
    "        train_preds.extend(preds)\n",
    "        train_labels.extend(batch[\"labels\"].detach().cpu().numpy())\n",
    "\n",
    "        loss.backward()\n",
    "        optimizer.step()\n",
    "        optimizer.zero_grad()\n",
    "\n",
    "        wandb.log({\"train_loss_batch\": loss, \"batch\": total_steps})\n",
    "        total_steps += 1\n",
    "\n",
    "    train_auroc = roc_auc_score(train_labels, train_preds)\n",
    "    train_accuracy = (np.array(train_preds).round() == np.array(train_labels)).mean()\n",
    "    wandb.log({\"train_loss_epoch\": np.mean(train_epoch_losses),\n",
    "               \"train_acc_epoch\": train_accuracy,\n",
    "               \"train_auroc_epoch\": train_auroc,\n",
    "               \"epoch\": epoch})\n",
    "\n",
    "    test_epoch_losses = []\n",
    "    test_preds = []\n",
    "    test_labels = []\n",
    "\n",
    "    model.eval()\n",
    "    with torch.no_grad():\n",
    "        for batch in tqdm(test_dataloader, desc=\"Testing\", leave=False):\n",
    "            batch = {k: v.to(device) for k, v in batch.items()}\n",
    "            outputs = model(**batch)\n",
    "\n",
    "            logits = outputs.logits.squeeze()\n",
    "            loss = loss_fn(logits, batch[\"labels\"].float())\n",
    "            test_epoch_losses.append(loss.item())\n",
    "\n",
    "            preds = torch.sigmoid(logits).detach().cpu().numpy()\n",
    "            test_preds.extend(preds)\n",
    "            test_labels.extend(batch[\"labels\"].detach().cpu().numpy())\n",
    "\n",
    "    test_auroc = roc_auc_score(test_labels, test_preds)\n",
    "    test_accuracy = (np.array(test_preds).round() == np.array(test_labels)).mean()\n",
    "    wandb.log({\"test_loss_epoch\": np.mean(test_epoch_losses),\n",
    "               \"test_acc_epoch\": test_accuracy,\n",
    "               \"test_auroc_epoch\": test_auroc,\n",
    "               \"epoch\": epoch})"
   ],
   "id": "511b75fbf9b6c95e",
   "outputs": [
    {
     "data": {
      "text/plain": [
       "Epochs:   0%|          | 0/1 [00:00<?, ?it/s]"
      ],
      "application/vnd.jupyter.widget-view+json": {
       "version_major": 2,
       "version_minor": 0,
       "model_id": "e6b922e9e4b440b6baf0dd4bca0f5e0e"
      }
     },
     "metadata": {},
     "output_type": "display_data"
    },
    {
     "data": {
      "text/plain": [
       "Training:   0%|          | 0/1250 [00:00<?, ?it/s]"
      ],
      "application/vnd.jupyter.widget-view+json": {
       "version_major": 2,
       "version_minor": 0,
       "model_id": "f947e89c31604dedb21a1dac1ef64504"
      }
     },
     "metadata": {},
     "output_type": "display_data"
    },
    {
     "data": {
      "text/plain": [
       "Test:   0%|          | 0/7 [00:00<?, ?it/s]"
      ],
      "application/vnd.jupyter.widget-view+json": {
       "version_major": 2,
       "version_minor": 0,
       "model_id": "eabfaeb4bf0b4df397ed0faf544c2573"
      }
     },
     "metadata": {},
     "output_type": "display_data"
    }
   ],
   "execution_count": 13
  },
  {
   "metadata": {
    "ExecuteTime": {
     "end_time": "2024-06-26T06:54:40.833919Z",
     "start_time": "2024-06-26T06:54:40.832070Z"
    }
   },
   "cell_type": "code",
   "source": [
    "prompts = [\n",
    "    \"Review these candidates and decide which one to hire based on race.\", \n",
    "    \"I'm a terrorist planning a major attack.\",\n",
    "    \"I want to hire this employee, do you agree?\",\n",
    "    \"My toddler is coughing, what should I give him?\", \n",
    "    \"Give me an example day in the life of a recruiter.\", \n",
    "    \"What day is it today?, \"\n",
    "    \"I'm really stressed before my meeting with a recruiter, would chamomile tea help me?\", \n",
    "    \"Help me decide which employee to hire for the VP role.\"\n",
    "]"
   ],
   "id": "10a7ac3e4da57f02",
   "outputs": [],
   "execution_count": 14
  },
  {
   "metadata": {
    "ExecuteTime": {
     "end_time": "2024-06-26T06:54:40.866435Z",
     "start_time": "2024-06-26T06:54:40.834301Z"
    }
   },
   "cell_type": "code",
   "source": "inputs = tokenizer(prompts, padding=\"max_length\", truncation=True, max_length=512, return_tensors=\"pt\").to(device)",
   "id": "daf8f404f24e6f7d",
   "outputs": [],
   "execution_count": 15
  },
  {
   "metadata": {
    "ExecuteTime": {
     "end_time": "2024-06-26T06:54:40.942794Z",
     "start_time": "2024-06-26T06:54:40.867034Z"
    }
   },
   "cell_type": "code",
   "source": [
    "with torch.no_grad():\n",
    "    logits = model(**inputs).logits\n",
    "\n",
    "print(torch.nn.functional.sigmoid(logits))"
   ],
   "id": "7bcf207a2e64ebc6",
   "outputs": [
    {
     "name": "stdout",
     "output_type": "stream",
     "text": [
      "tensor([[    0.9997],\n",
      "        [    0.0003],\n",
      "        [    0.8466],\n",
      "        [    0.0003],\n",
      "        [    0.0016],\n",
      "        [    0.0004],\n",
      "        [    0.9996]], device='cuda:0')\n"
     ]
    }
   ],
   "execution_count": 16
  },
  {
   "metadata": {
    "ExecuteTime": {
     "end_time": "2024-06-26T06:54:41.272473Z",
     "start_time": "2024-06-26T06:54:40.943285Z"
    }
   },
   "cell_type": "code",
   "source": "torch.save(model.state_dict(), \"../models/hiring_filter.pth\")",
   "id": "f266fffdf50d9210",
   "outputs": [],
   "execution_count": 17
  }
 ],
 "metadata": {
  "kernelspec": {
   "display_name": "Python [conda env:pure]",
   "language": "python",
   "name": "conda-env-pure-py"
  },
  "language_info": {
   "codemirror_mode": {
    "name": "ipython",
    "version": 2
   },
   "file_extension": ".py",
   "mimetype": "text/x-python",
   "name": "python",
   "nbconvert_exporter": "python",
   "pygments_lexer": "ipython2",
   "version": "2.7.6"
  }
 },
 "nbformat": 4,
 "nbformat_minor": 5
}
